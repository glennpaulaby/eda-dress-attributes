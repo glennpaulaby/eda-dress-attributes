{
  "nbformat": 4,
  "nbformat_minor": 0,
  "metadata": {
    "colab": {
      "provenance": []
    },
    "kernelspec": {
      "name": "python3",
      "display_name": "Python 3"
    },
    "language_info": {
      "name": "python"
    }
  },
  "cells": [
    {
      "cell_type": "code",
      "metadata": {
        "colab": {
          "base_uri": "https://localhost:8080/",
          "height": 204
        },
        "id": "lptbxDMj0m6X",
        "outputId": "40aaf3f6-8be4-41ce-f264-3c63d75cec57"
      },
      "source": [
        "import numpy as np\n",
        "import pandas as pd\n",
        "\n",
        "data=pd.read_csv(\"/content/drive/MyDrive/DressAttributes/Dress Attribute DataSet.csv\")\n",
        "data.head()"
      ],
      "execution_count": null,
      "outputs": [
        {
          "output_type": "execute_result",
          "data": {
            "text/html": [
              "<div>\n",
              "<style scoped>\n",
              "    .dataframe tbody tr th:only-of-type {\n",
              "        vertical-align: middle;\n",
              "    }\n",
              "\n",
              "    .dataframe tbody tr th {\n",
              "        vertical-align: top;\n",
              "    }\n",
              "\n",
              "    .dataframe thead th {\n",
              "        text-align: right;\n",
              "    }\n",
              "</style>\n",
              "<table border=\"1\" class=\"dataframe\">\n",
              "  <thead>\n",
              "    <tr style=\"text-align: right;\">\n",
              "      <th></th>\n",
              "      <th>Dress_ID</th>\n",
              "      <th>Style</th>\n",
              "      <th>Price</th>\n",
              "      <th>Rating</th>\n",
              "      <th>Size</th>\n",
              "      <th>Season</th>\n",
              "      <th>NeckLine</th>\n",
              "      <th>SleeveLength</th>\n",
              "      <th>waiseline</th>\n",
              "      <th>Material</th>\n",
              "      <th>FabricType</th>\n",
              "      <th>Decoration</th>\n",
              "      <th>Pattern Type</th>\n",
              "      <th>Recommendation</th>\n",
              "    </tr>\n",
              "  </thead>\n",
              "  <tbody>\n",
              "    <tr>\n",
              "      <th>0</th>\n",
              "      <td>1006032852</td>\n",
              "      <td>Sexy</td>\n",
              "      <td>Low</td>\n",
              "      <td>4.6</td>\n",
              "      <td>M</td>\n",
              "      <td>Summer</td>\n",
              "      <td>o-neck</td>\n",
              "      <td>sleevless</td>\n",
              "      <td>empire</td>\n",
              "      <td>NaN</td>\n",
              "      <td>chiffon</td>\n",
              "      <td>ruffles</td>\n",
              "      <td>animal</td>\n",
              "      <td>1</td>\n",
              "    </tr>\n",
              "    <tr>\n",
              "      <th>1</th>\n",
              "      <td>1212192089</td>\n",
              "      <td>Casual</td>\n",
              "      <td>Low</td>\n",
              "      <td>0.0</td>\n",
              "      <td>L</td>\n",
              "      <td>Summer</td>\n",
              "      <td>o-neck</td>\n",
              "      <td>Petal</td>\n",
              "      <td>natural</td>\n",
              "      <td>microfiber</td>\n",
              "      <td>NaN</td>\n",
              "      <td>ruffles</td>\n",
              "      <td>animal</td>\n",
              "      <td>0</td>\n",
              "    </tr>\n",
              "    <tr>\n",
              "      <th>2</th>\n",
              "      <td>1190380701</td>\n",
              "      <td>vintage</td>\n",
              "      <td>High</td>\n",
              "      <td>0.0</td>\n",
              "      <td>L</td>\n",
              "      <td>Automn</td>\n",
              "      <td>o-neck</td>\n",
              "      <td>full</td>\n",
              "      <td>natural</td>\n",
              "      <td>polyster</td>\n",
              "      <td>NaN</td>\n",
              "      <td>NaN</td>\n",
              "      <td>print</td>\n",
              "      <td>0</td>\n",
              "    </tr>\n",
              "    <tr>\n",
              "      <th>3</th>\n",
              "      <td>966005983</td>\n",
              "      <td>Brief</td>\n",
              "      <td>Average</td>\n",
              "      <td>4.6</td>\n",
              "      <td>L</td>\n",
              "      <td>Spring</td>\n",
              "      <td>o-neck</td>\n",
              "      <td>full</td>\n",
              "      <td>natural</td>\n",
              "      <td>silk</td>\n",
              "      <td>chiffon</td>\n",
              "      <td>embroidary</td>\n",
              "      <td>print</td>\n",
              "      <td>1</td>\n",
              "    </tr>\n",
              "    <tr>\n",
              "      <th>4</th>\n",
              "      <td>876339541</td>\n",
              "      <td>cute</td>\n",
              "      <td>Low</td>\n",
              "      <td>4.5</td>\n",
              "      <td>M</td>\n",
              "      <td>Summer</td>\n",
              "      <td>o-neck</td>\n",
              "      <td>butterfly</td>\n",
              "      <td>natural</td>\n",
              "      <td>chiffonfabric</td>\n",
              "      <td>chiffon</td>\n",
              "      <td>bow</td>\n",
              "      <td>dot</td>\n",
              "      <td>0</td>\n",
              "    </tr>\n",
              "  </tbody>\n",
              "</table>\n",
              "</div>"
            ],
            "text/plain": [
              "     Dress_ID    Style    Price  ...  Decoration Pattern Type Recommendation\n",
              "0  1006032852     Sexy      Low  ...     ruffles       animal              1\n",
              "1  1212192089   Casual      Low  ...     ruffles       animal              0\n",
              "2  1190380701  vintage     High  ...         NaN        print              0\n",
              "3   966005983    Brief  Average  ...  embroidary        print              1\n",
              "4   876339541     cute      Low  ...         bow          dot              0\n",
              "\n",
              "[5 rows x 14 columns]"
            ]
          },
          "metadata": {
            "tags": []
          },
          "execution_count": 256
        }
      ]
    },
    {
      "cell_type": "code",
      "metadata": {
        "colab": {
          "base_uri": "https://localhost:8080/",
          "height": 419
        },
        "id": "1QNNAvBv0xnu",
        "outputId": "aaa99348-b73c-4591-a0e0-a8d4f61d3bb4"
      },
      "source": [
        "df_data = pd.read_csv('/content/drive/MyDrive/DressAttributes/Dress Attribute DataSet.csv')\n",
        "df_data"
      ],
      "execution_count": null,
      "outputs": [
        {
          "output_type": "execute_result",
          "data": {
            "text/html": [
              "<div>\n",
              "<style scoped>\n",
              "    .dataframe tbody tr th:only-of-type {\n",
              "        vertical-align: middle;\n",
              "    }\n",
              "\n",
              "    .dataframe tbody tr th {\n",
              "        vertical-align: top;\n",
              "    }\n",
              "\n",
              "    .dataframe thead th {\n",
              "        text-align: right;\n",
              "    }\n",
              "</style>\n",
              "<table border=\"1\" class=\"dataframe\">\n",
              "  <thead>\n",
              "    <tr style=\"text-align: right;\">\n",
              "      <th></th>\n",
              "      <th>Dress_ID</th>\n",
              "      <th>Style</th>\n",
              "      <th>Price</th>\n",
              "      <th>Rating</th>\n",
              "      <th>Size</th>\n",
              "      <th>Season</th>\n",
              "      <th>NeckLine</th>\n",
              "      <th>SleeveLength</th>\n",
              "      <th>waiseline</th>\n",
              "      <th>Material</th>\n",
              "      <th>FabricType</th>\n",
              "      <th>Decoration</th>\n",
              "      <th>Pattern Type</th>\n",
              "      <th>Recommendation</th>\n",
              "    </tr>\n",
              "  </thead>\n",
              "  <tbody>\n",
              "    <tr>\n",
              "      <th>0</th>\n",
              "      <td>1006032852</td>\n",
              "      <td>Sexy</td>\n",
              "      <td>Low</td>\n",
              "      <td>4.6</td>\n",
              "      <td>M</td>\n",
              "      <td>Summer</td>\n",
              "      <td>o-neck</td>\n",
              "      <td>sleevless</td>\n",
              "      <td>empire</td>\n",
              "      <td>NaN</td>\n",
              "      <td>chiffon</td>\n",
              "      <td>ruffles</td>\n",
              "      <td>animal</td>\n",
              "      <td>1</td>\n",
              "    </tr>\n",
              "    <tr>\n",
              "      <th>1</th>\n",
              "      <td>1212192089</td>\n",
              "      <td>Casual</td>\n",
              "      <td>Low</td>\n",
              "      <td>0.0</td>\n",
              "      <td>L</td>\n",
              "      <td>Summer</td>\n",
              "      <td>o-neck</td>\n",
              "      <td>Petal</td>\n",
              "      <td>natural</td>\n",
              "      <td>microfiber</td>\n",
              "      <td>NaN</td>\n",
              "      <td>ruffles</td>\n",
              "      <td>animal</td>\n",
              "      <td>0</td>\n",
              "    </tr>\n",
              "    <tr>\n",
              "      <th>2</th>\n",
              "      <td>1190380701</td>\n",
              "      <td>vintage</td>\n",
              "      <td>High</td>\n",
              "      <td>0.0</td>\n",
              "      <td>L</td>\n",
              "      <td>Automn</td>\n",
              "      <td>o-neck</td>\n",
              "      <td>full</td>\n",
              "      <td>natural</td>\n",
              "      <td>polyster</td>\n",
              "      <td>NaN</td>\n",
              "      <td>NaN</td>\n",
              "      <td>print</td>\n",
              "      <td>0</td>\n",
              "    </tr>\n",
              "    <tr>\n",
              "      <th>3</th>\n",
              "      <td>966005983</td>\n",
              "      <td>Brief</td>\n",
              "      <td>Average</td>\n",
              "      <td>4.6</td>\n",
              "      <td>L</td>\n",
              "      <td>Spring</td>\n",
              "      <td>o-neck</td>\n",
              "      <td>full</td>\n",
              "      <td>natural</td>\n",
              "      <td>silk</td>\n",
              "      <td>chiffon</td>\n",
              "      <td>embroidary</td>\n",
              "      <td>print</td>\n",
              "      <td>1</td>\n",
              "    </tr>\n",
              "    <tr>\n",
              "      <th>4</th>\n",
              "      <td>876339541</td>\n",
              "      <td>cute</td>\n",
              "      <td>Low</td>\n",
              "      <td>4.5</td>\n",
              "      <td>M</td>\n",
              "      <td>Summer</td>\n",
              "      <td>o-neck</td>\n",
              "      <td>butterfly</td>\n",
              "      <td>natural</td>\n",
              "      <td>chiffonfabric</td>\n",
              "      <td>chiffon</td>\n",
              "      <td>bow</td>\n",
              "      <td>dot</td>\n",
              "      <td>0</td>\n",
              "    </tr>\n",
              "    <tr>\n",
              "      <th>...</th>\n",
              "      <td>...</td>\n",
              "      <td>...</td>\n",
              "      <td>...</td>\n",
              "      <td>...</td>\n",
              "      <td>...</td>\n",
              "      <td>...</td>\n",
              "      <td>...</td>\n",
              "      <td>...</td>\n",
              "      <td>...</td>\n",
              "      <td>...</td>\n",
              "      <td>...</td>\n",
              "      <td>...</td>\n",
              "      <td>...</td>\n",
              "      <td>...</td>\n",
              "    </tr>\n",
              "    <tr>\n",
              "      <th>495</th>\n",
              "      <td>713391965</td>\n",
              "      <td>Casual</td>\n",
              "      <td>Low</td>\n",
              "      <td>4.7</td>\n",
              "      <td>M</td>\n",
              "      <td>Spring</td>\n",
              "      <td>o-neck</td>\n",
              "      <td>full</td>\n",
              "      <td>natural</td>\n",
              "      <td>polyster</td>\n",
              "      <td>NaN</td>\n",
              "      <td>NaN</td>\n",
              "      <td>solid</td>\n",
              "      <td>1</td>\n",
              "    </tr>\n",
              "    <tr>\n",
              "      <th>496</th>\n",
              "      <td>722565148</td>\n",
              "      <td>Sexy</td>\n",
              "      <td>Low</td>\n",
              "      <td>4.3</td>\n",
              "      <td>free</td>\n",
              "      <td>Summer</td>\n",
              "      <td>o-neck</td>\n",
              "      <td>full</td>\n",
              "      <td>empire</td>\n",
              "      <td>cotton</td>\n",
              "      <td>NaN</td>\n",
              "      <td>NaN</td>\n",
              "      <td>NaN</td>\n",
              "      <td>0</td>\n",
              "    </tr>\n",
              "    <tr>\n",
              "      <th>497</th>\n",
              "      <td>532874347</td>\n",
              "      <td>Casual</td>\n",
              "      <td>Average</td>\n",
              "      <td>4.7</td>\n",
              "      <td>M</td>\n",
              "      <td>Summer</td>\n",
              "      <td>v-neck</td>\n",
              "      <td>full</td>\n",
              "      <td>empire</td>\n",
              "      <td>cotton</td>\n",
              "      <td>NaN</td>\n",
              "      <td>lace</td>\n",
              "      <td>solid</td>\n",
              "      <td>1</td>\n",
              "    </tr>\n",
              "    <tr>\n",
              "      <th>498</th>\n",
              "      <td>655464934</td>\n",
              "      <td>Casual</td>\n",
              "      <td>Average</td>\n",
              "      <td>4.6</td>\n",
              "      <td>L</td>\n",
              "      <td>winter</td>\n",
              "      <td>boat-neck</td>\n",
              "      <td>sleevless</td>\n",
              "      <td>empire</td>\n",
              "      <td>silk</td>\n",
              "      <td>broadcloth</td>\n",
              "      <td>applique</td>\n",
              "      <td>print</td>\n",
              "      <td>1</td>\n",
              "    </tr>\n",
              "    <tr>\n",
              "      <th>499</th>\n",
              "      <td>919930954</td>\n",
              "      <td>Casual</td>\n",
              "      <td>Low</td>\n",
              "      <td>4.4</td>\n",
              "      <td>free</td>\n",
              "      <td>Summer</td>\n",
              "      <td>v-neck</td>\n",
              "      <td>short</td>\n",
              "      <td>empire</td>\n",
              "      <td>cotton</td>\n",
              "      <td>Corduroy</td>\n",
              "      <td>lace</td>\n",
              "      <td>solid</td>\n",
              "      <td>0</td>\n",
              "    </tr>\n",
              "  </tbody>\n",
              "</table>\n",
              "<p>500 rows × 14 columns</p>\n",
              "</div>"
            ],
            "text/plain": [
              "       Dress_ID    Style    Price  ...  Decoration Pattern Type Recommendation\n",
              "0    1006032852     Sexy      Low  ...     ruffles       animal              1\n",
              "1    1212192089   Casual      Low  ...     ruffles       animal              0\n",
              "2    1190380701  vintage     High  ...         NaN        print              0\n",
              "3     966005983    Brief  Average  ...  embroidary        print              1\n",
              "4     876339541     cute      Low  ...         bow          dot              0\n",
              "..          ...      ...      ...  ...         ...          ...            ...\n",
              "495   713391965   Casual      Low  ...         NaN        solid              1\n",
              "496   722565148     Sexy      Low  ...         NaN          NaN              0\n",
              "497   532874347   Casual  Average  ...        lace        solid              1\n",
              "498   655464934   Casual  Average  ...    applique        print              1\n",
              "499   919930954   Casual      Low  ...        lace        solid              0\n",
              "\n",
              "[500 rows x 14 columns]"
            ]
          },
          "metadata": {
            "tags": []
          },
          "execution_count": 257
        }
      ]
    },
    {
      "cell_type": "code",
      "metadata": {
        "id": "Td50XDf11KtN",
        "colab": {
          "base_uri": "https://localhost:8080/"
        },
        "outputId": "765eb643-66bf-4616-e317-33c4cfb40f38"
      },
      "source": [
        "df_data.shape"
      ],
      "execution_count": null,
      "outputs": [
        {
          "output_type": "execute_result",
          "data": {
            "text/plain": [
              "(500, 14)"
            ]
          },
          "metadata": {
            "tags": []
          },
          "execution_count": 258
        }
      ]
    },
    {
      "cell_type": "code",
      "metadata": {
        "id": "u_UqsvQo1Kzd",
        "colab": {
          "base_uri": "https://localhost:8080/"
        },
        "outputId": "13fc9ddb-16e6-49e0-eac7-f3d19f6ae1c4"
      },
      "source": [
        "df_data.columns"
      ],
      "execution_count": null,
      "outputs": [
        {
          "output_type": "execute_result",
          "data": {
            "text/plain": [
              "Index(['Dress_ID', 'Style', 'Price', 'Rating', 'Size', 'Season', 'NeckLine',\n",
              "       'SleeveLength', 'waiseline', 'Material', 'FabricType', 'Decoration',\n",
              "       'Pattern Type', 'Recommendation'],\n",
              "      dtype='object')"
            ]
          },
          "metadata": {
            "tags": []
          },
          "execution_count": 259
        }
      ]
    },
    {
      "cell_type": "code",
      "metadata": {
        "id": "kynoTb-o1K4V",
        "colab": {
          "base_uri": "https://localhost:8080/",
          "height": 328
        },
        "outputId": "4531d721-8ded-4486-fe15-b5ef17c5c771"
      },
      "source": [
        "df_data.head(9)"
      ],
      "execution_count": null,
      "outputs": [
        {
          "output_type": "execute_result",
          "data": {
            "text/html": [
              "<div>\n",
              "<style scoped>\n",
              "    .dataframe tbody tr th:only-of-type {\n",
              "        vertical-align: middle;\n",
              "    }\n",
              "\n",
              "    .dataframe tbody tr th {\n",
              "        vertical-align: top;\n",
              "    }\n",
              "\n",
              "    .dataframe thead th {\n",
              "        text-align: right;\n",
              "    }\n",
              "</style>\n",
              "<table border=\"1\" class=\"dataframe\">\n",
              "  <thead>\n",
              "    <tr style=\"text-align: right;\">\n",
              "      <th></th>\n",
              "      <th>Dress_ID</th>\n",
              "      <th>Style</th>\n",
              "      <th>Price</th>\n",
              "      <th>Rating</th>\n",
              "      <th>Size</th>\n",
              "      <th>Season</th>\n",
              "      <th>NeckLine</th>\n",
              "      <th>SleeveLength</th>\n",
              "      <th>waiseline</th>\n",
              "      <th>Material</th>\n",
              "      <th>FabricType</th>\n",
              "      <th>Decoration</th>\n",
              "      <th>Pattern Type</th>\n",
              "      <th>Recommendation</th>\n",
              "    </tr>\n",
              "  </thead>\n",
              "  <tbody>\n",
              "    <tr>\n",
              "      <th>0</th>\n",
              "      <td>1006032852</td>\n",
              "      <td>Sexy</td>\n",
              "      <td>Low</td>\n",
              "      <td>4.6</td>\n",
              "      <td>M</td>\n",
              "      <td>Summer</td>\n",
              "      <td>o-neck</td>\n",
              "      <td>sleevless</td>\n",
              "      <td>empire</td>\n",
              "      <td>NaN</td>\n",
              "      <td>chiffon</td>\n",
              "      <td>ruffles</td>\n",
              "      <td>animal</td>\n",
              "      <td>1</td>\n",
              "    </tr>\n",
              "    <tr>\n",
              "      <th>1</th>\n",
              "      <td>1212192089</td>\n",
              "      <td>Casual</td>\n",
              "      <td>Low</td>\n",
              "      <td>0.0</td>\n",
              "      <td>L</td>\n",
              "      <td>Summer</td>\n",
              "      <td>o-neck</td>\n",
              "      <td>Petal</td>\n",
              "      <td>natural</td>\n",
              "      <td>microfiber</td>\n",
              "      <td>NaN</td>\n",
              "      <td>ruffles</td>\n",
              "      <td>animal</td>\n",
              "      <td>0</td>\n",
              "    </tr>\n",
              "    <tr>\n",
              "      <th>2</th>\n",
              "      <td>1190380701</td>\n",
              "      <td>vintage</td>\n",
              "      <td>High</td>\n",
              "      <td>0.0</td>\n",
              "      <td>L</td>\n",
              "      <td>Automn</td>\n",
              "      <td>o-neck</td>\n",
              "      <td>full</td>\n",
              "      <td>natural</td>\n",
              "      <td>polyster</td>\n",
              "      <td>NaN</td>\n",
              "      <td>NaN</td>\n",
              "      <td>print</td>\n",
              "      <td>0</td>\n",
              "    </tr>\n",
              "    <tr>\n",
              "      <th>3</th>\n",
              "      <td>966005983</td>\n",
              "      <td>Brief</td>\n",
              "      <td>Average</td>\n",
              "      <td>4.6</td>\n",
              "      <td>L</td>\n",
              "      <td>Spring</td>\n",
              "      <td>o-neck</td>\n",
              "      <td>full</td>\n",
              "      <td>natural</td>\n",
              "      <td>silk</td>\n",
              "      <td>chiffon</td>\n",
              "      <td>embroidary</td>\n",
              "      <td>print</td>\n",
              "      <td>1</td>\n",
              "    </tr>\n",
              "    <tr>\n",
              "      <th>4</th>\n",
              "      <td>876339541</td>\n",
              "      <td>cute</td>\n",
              "      <td>Low</td>\n",
              "      <td>4.5</td>\n",
              "      <td>M</td>\n",
              "      <td>Summer</td>\n",
              "      <td>o-neck</td>\n",
              "      <td>butterfly</td>\n",
              "      <td>natural</td>\n",
              "      <td>chiffonfabric</td>\n",
              "      <td>chiffon</td>\n",
              "      <td>bow</td>\n",
              "      <td>dot</td>\n",
              "      <td>0</td>\n",
              "    </tr>\n",
              "    <tr>\n",
              "      <th>5</th>\n",
              "      <td>1068332458</td>\n",
              "      <td>bohemian</td>\n",
              "      <td>Low</td>\n",
              "      <td>0.0</td>\n",
              "      <td>M</td>\n",
              "      <td>Summer</td>\n",
              "      <td>v-neck</td>\n",
              "      <td>sleevless</td>\n",
              "      <td>empire</td>\n",
              "      <td>NaN</td>\n",
              "      <td>NaN</td>\n",
              "      <td>NaN</td>\n",
              "      <td>print</td>\n",
              "      <td>0</td>\n",
              "    </tr>\n",
              "    <tr>\n",
              "      <th>6</th>\n",
              "      <td>1220707172</td>\n",
              "      <td>Casual</td>\n",
              "      <td>Average</td>\n",
              "      <td>0.0</td>\n",
              "      <td>XL</td>\n",
              "      <td>Summer</td>\n",
              "      <td>o-neck</td>\n",
              "      <td>full</td>\n",
              "      <td>NaN</td>\n",
              "      <td>cotton</td>\n",
              "      <td>NaN</td>\n",
              "      <td>NaN</td>\n",
              "      <td>solid</td>\n",
              "      <td>0</td>\n",
              "    </tr>\n",
              "    <tr>\n",
              "      <th>7</th>\n",
              "      <td>1219677488</td>\n",
              "      <td>Novelty</td>\n",
              "      <td>Average</td>\n",
              "      <td>0.0</td>\n",
              "      <td>free</td>\n",
              "      <td>Automn</td>\n",
              "      <td>o-neck</td>\n",
              "      <td>short</td>\n",
              "      <td>natural</td>\n",
              "      <td>polyster</td>\n",
              "      <td>broadcloth</td>\n",
              "      <td>lace</td>\n",
              "      <td>NaN</td>\n",
              "      <td>0</td>\n",
              "    </tr>\n",
              "    <tr>\n",
              "      <th>8</th>\n",
              "      <td>1113094204</td>\n",
              "      <td>Flare</td>\n",
              "      <td>Average</td>\n",
              "      <td>0.0</td>\n",
              "      <td>free</td>\n",
              "      <td>Spring</td>\n",
              "      <td>v-neck</td>\n",
              "      <td>short</td>\n",
              "      <td>empire</td>\n",
              "      <td>cotton</td>\n",
              "      <td>broadcloth</td>\n",
              "      <td>beading</td>\n",
              "      <td>solid</td>\n",
              "      <td>1</td>\n",
              "    </tr>\n",
              "  </tbody>\n",
              "</table>\n",
              "</div>"
            ],
            "text/plain": [
              "     Dress_ID     Style    Price  ...  Decoration Pattern Type Recommendation\n",
              "0  1006032852      Sexy      Low  ...     ruffles       animal              1\n",
              "1  1212192089    Casual      Low  ...     ruffles       animal              0\n",
              "2  1190380701   vintage     High  ...         NaN        print              0\n",
              "3   966005983     Brief  Average  ...  embroidary        print              1\n",
              "4   876339541      cute      Low  ...         bow          dot              0\n",
              "5  1068332458  bohemian      Low  ...         NaN        print              0\n",
              "6  1220707172    Casual  Average  ...         NaN        solid              0\n",
              "7  1219677488   Novelty  Average  ...        lace          NaN              0\n",
              "8  1113094204     Flare  Average  ...     beading        solid              1\n",
              "\n",
              "[9 rows x 14 columns]"
            ]
          },
          "metadata": {
            "tags": []
          },
          "execution_count": 261
        }
      ]
    },
    {
      "cell_type": "code",
      "metadata": {
        "id": "SRXRlUfx1K6u",
        "colab": {
          "base_uri": "https://localhost:8080/",
          "height": 328
        },
        "outputId": "01ac717f-708f-40a1-dbfd-34b0922505b0"
      },
      "source": [
        "df_data.tail(9)"
      ],
      "execution_count": null,
      "outputs": [
        {
          "output_type": "execute_result",
          "data": {
            "text/html": [
              "<div>\n",
              "<style scoped>\n",
              "    .dataframe tbody tr th:only-of-type {\n",
              "        vertical-align: middle;\n",
              "    }\n",
              "\n",
              "    .dataframe tbody tr th {\n",
              "        vertical-align: top;\n",
              "    }\n",
              "\n",
              "    .dataframe thead th {\n",
              "        text-align: right;\n",
              "    }\n",
              "</style>\n",
              "<table border=\"1\" class=\"dataframe\">\n",
              "  <thead>\n",
              "    <tr style=\"text-align: right;\">\n",
              "      <th></th>\n",
              "      <th>Dress_ID</th>\n",
              "      <th>Style</th>\n",
              "      <th>Price</th>\n",
              "      <th>Rating</th>\n",
              "      <th>Size</th>\n",
              "      <th>Season</th>\n",
              "      <th>NeckLine</th>\n",
              "      <th>SleeveLength</th>\n",
              "      <th>waiseline</th>\n",
              "      <th>Material</th>\n",
              "      <th>FabricType</th>\n",
              "      <th>Decoration</th>\n",
              "      <th>Pattern Type</th>\n",
              "      <th>Recommendation</th>\n",
              "    </tr>\n",
              "  </thead>\n",
              "  <tbody>\n",
              "    <tr>\n",
              "      <th>491</th>\n",
              "      <td>964917582</td>\n",
              "      <td>Casual</td>\n",
              "      <td>Average</td>\n",
              "      <td>5.0</td>\n",
              "      <td>L</td>\n",
              "      <td>Summer</td>\n",
              "      <td>o-neck</td>\n",
              "      <td>sleevless</td>\n",
              "      <td>natural</td>\n",
              "      <td>cotton</td>\n",
              "      <td>NaN</td>\n",
              "      <td>NaN</td>\n",
              "      <td>NaN</td>\n",
              "      <td>1</td>\n",
              "    </tr>\n",
              "    <tr>\n",
              "      <th>492</th>\n",
              "      <td>859922576</td>\n",
              "      <td>cute</td>\n",
              "      <td>Average</td>\n",
              "      <td>4.6</td>\n",
              "      <td>M</td>\n",
              "      <td>Spring</td>\n",
              "      <td>o-neck</td>\n",
              "      <td>halfsleeve</td>\n",
              "      <td>natural</td>\n",
              "      <td>acrylic</td>\n",
              "      <td>chiffon</td>\n",
              "      <td>NaN</td>\n",
              "      <td>NaN</td>\n",
              "      <td>0</td>\n",
              "    </tr>\n",
              "    <tr>\n",
              "      <th>493</th>\n",
              "      <td>817353671</td>\n",
              "      <td>bohemian</td>\n",
              "      <td>Low</td>\n",
              "      <td>4.6</td>\n",
              "      <td>free</td>\n",
              "      <td>Summer</td>\n",
              "      <td>o-neck</td>\n",
              "      <td>sleevless</td>\n",
              "      <td>natural</td>\n",
              "      <td>cotton</td>\n",
              "      <td>chiffon</td>\n",
              "      <td>none</td>\n",
              "      <td>solid</td>\n",
              "      <td>1</td>\n",
              "    </tr>\n",
              "    <tr>\n",
              "      <th>494</th>\n",
              "      <td>990559192</td>\n",
              "      <td>Brief</td>\n",
              "      <td>Average</td>\n",
              "      <td>4.7</td>\n",
              "      <td>M</td>\n",
              "      <td>winter</td>\n",
              "      <td>o-neck</td>\n",
              "      <td>halfsleeve</td>\n",
              "      <td>natural</td>\n",
              "      <td>acrylic</td>\n",
              "      <td>chiffon</td>\n",
              "      <td>NaN</td>\n",
              "      <td>striped</td>\n",
              "      <td>0</td>\n",
              "    </tr>\n",
              "    <tr>\n",
              "      <th>495</th>\n",
              "      <td>713391965</td>\n",
              "      <td>Casual</td>\n",
              "      <td>Low</td>\n",
              "      <td>4.7</td>\n",
              "      <td>M</td>\n",
              "      <td>Spring</td>\n",
              "      <td>o-neck</td>\n",
              "      <td>full</td>\n",
              "      <td>natural</td>\n",
              "      <td>polyster</td>\n",
              "      <td>NaN</td>\n",
              "      <td>NaN</td>\n",
              "      <td>solid</td>\n",
              "      <td>1</td>\n",
              "    </tr>\n",
              "    <tr>\n",
              "      <th>496</th>\n",
              "      <td>722565148</td>\n",
              "      <td>Sexy</td>\n",
              "      <td>Low</td>\n",
              "      <td>4.3</td>\n",
              "      <td>free</td>\n",
              "      <td>Summer</td>\n",
              "      <td>o-neck</td>\n",
              "      <td>full</td>\n",
              "      <td>empire</td>\n",
              "      <td>cotton</td>\n",
              "      <td>NaN</td>\n",
              "      <td>NaN</td>\n",
              "      <td>NaN</td>\n",
              "      <td>0</td>\n",
              "    </tr>\n",
              "    <tr>\n",
              "      <th>497</th>\n",
              "      <td>532874347</td>\n",
              "      <td>Casual</td>\n",
              "      <td>Average</td>\n",
              "      <td>4.7</td>\n",
              "      <td>M</td>\n",
              "      <td>Summer</td>\n",
              "      <td>v-neck</td>\n",
              "      <td>full</td>\n",
              "      <td>empire</td>\n",
              "      <td>cotton</td>\n",
              "      <td>NaN</td>\n",
              "      <td>lace</td>\n",
              "      <td>solid</td>\n",
              "      <td>1</td>\n",
              "    </tr>\n",
              "    <tr>\n",
              "      <th>498</th>\n",
              "      <td>655464934</td>\n",
              "      <td>Casual</td>\n",
              "      <td>Average</td>\n",
              "      <td>4.6</td>\n",
              "      <td>L</td>\n",
              "      <td>winter</td>\n",
              "      <td>boat-neck</td>\n",
              "      <td>sleevless</td>\n",
              "      <td>empire</td>\n",
              "      <td>silk</td>\n",
              "      <td>broadcloth</td>\n",
              "      <td>applique</td>\n",
              "      <td>print</td>\n",
              "      <td>1</td>\n",
              "    </tr>\n",
              "    <tr>\n",
              "      <th>499</th>\n",
              "      <td>919930954</td>\n",
              "      <td>Casual</td>\n",
              "      <td>Low</td>\n",
              "      <td>4.4</td>\n",
              "      <td>free</td>\n",
              "      <td>Summer</td>\n",
              "      <td>v-neck</td>\n",
              "      <td>short</td>\n",
              "      <td>empire</td>\n",
              "      <td>cotton</td>\n",
              "      <td>Corduroy</td>\n",
              "      <td>lace</td>\n",
              "      <td>solid</td>\n",
              "      <td>0</td>\n",
              "    </tr>\n",
              "  </tbody>\n",
              "</table>\n",
              "</div>"
            ],
            "text/plain": [
              "      Dress_ID     Style    Price  ...  Decoration Pattern Type Recommendation\n",
              "491  964917582    Casual  Average  ...         NaN          NaN              1\n",
              "492  859922576      cute  Average  ...         NaN          NaN              0\n",
              "493  817353671  bohemian      Low  ...        none        solid              1\n",
              "494  990559192     Brief  Average  ...         NaN      striped              0\n",
              "495  713391965    Casual      Low  ...         NaN        solid              1\n",
              "496  722565148      Sexy      Low  ...         NaN          NaN              0\n",
              "497  532874347    Casual  Average  ...        lace        solid              1\n",
              "498  655464934    Casual  Average  ...    applique        print              1\n",
              "499  919930954    Casual      Low  ...        lace        solid              0\n",
              "\n",
              "[9 rows x 14 columns]"
            ]
          },
          "metadata": {
            "tags": []
          },
          "execution_count": 262
        }
      ]
    },
    {
      "cell_type": "code",
      "metadata": {
        "id": "3id1TpAO1K9V",
        "colab": {
          "base_uri": "https://localhost:8080/"
        },
        "outputId": "e83441da-1675-4ec1-a050-937b8026fd80"
      },
      "source": [
        "df_data.info()"
      ],
      "execution_count": null,
      "outputs": [
        {
          "output_type": "stream",
          "text": [
            "<class 'pandas.core.frame.DataFrame'>\n",
            "RangeIndex: 500 entries, 0 to 499\n",
            "Data columns (total 14 columns):\n",
            " #   Column          Non-Null Count  Dtype  \n",
            "---  ------          --------------  -----  \n",
            " 0   Dress_ID        500 non-null    int64  \n",
            " 1   Style           500 non-null    object \n",
            " 2   Price           498 non-null    object \n",
            " 3   Rating          500 non-null    float64\n",
            " 4   Size            500 non-null    object \n",
            " 5   Season          498 non-null    object \n",
            " 6   NeckLine        497 non-null    object \n",
            " 7   SleeveLength    498 non-null    object \n",
            " 8   waiseline       413 non-null    object \n",
            " 9   Material        372 non-null    object \n",
            " 10  FabricType      234 non-null    object \n",
            " 11  Decoration      264 non-null    object \n",
            " 12  Pattern Type    391 non-null    object \n",
            " 13  Recommendation  500 non-null    int64  \n",
            "dtypes: float64(1), int64(2), object(11)\n",
            "memory usage: 54.8+ KB\n"
          ],
          "name": "stdout"
        }
      ]
    },
    {
      "cell_type": "code",
      "metadata": {
        "id": "FPjboHtZ1LAN",
        "colab": {
          "base_uri": "https://localhost:8080/",
          "height": 297
        },
        "outputId": "0140b1bb-b5c3-4572-ff94-1432567b6e8d"
      },
      "source": [
        "df_data.describe()"
      ],
      "execution_count": null,
      "outputs": [
        {
          "output_type": "execute_result",
          "data": {
            "text/html": [
              "<div>\n",
              "<style scoped>\n",
              "    .dataframe tbody tr th:only-of-type {\n",
              "        vertical-align: middle;\n",
              "    }\n",
              "\n",
              "    .dataframe tbody tr th {\n",
              "        vertical-align: top;\n",
              "    }\n",
              "\n",
              "    .dataframe thead th {\n",
              "        text-align: right;\n",
              "    }\n",
              "</style>\n",
              "<table border=\"1\" class=\"dataframe\">\n",
              "  <thead>\n",
              "    <tr style=\"text-align: right;\">\n",
              "      <th></th>\n",
              "      <th>Dress_ID</th>\n",
              "      <th>Rating</th>\n",
              "      <th>Recommendation</th>\n",
              "    </tr>\n",
              "  </thead>\n",
              "  <tbody>\n",
              "    <tr>\n",
              "      <th>count</th>\n",
              "      <td>5.000000e+02</td>\n",
              "      <td>500.000000</td>\n",
              "      <td>500.000000</td>\n",
              "    </tr>\n",
              "    <tr>\n",
              "      <th>mean</th>\n",
              "      <td>9.055417e+08</td>\n",
              "      <td>3.528600</td>\n",
              "      <td>0.420000</td>\n",
              "    </tr>\n",
              "    <tr>\n",
              "      <th>std</th>\n",
              "      <td>1.736190e+08</td>\n",
              "      <td>2.005364</td>\n",
              "      <td>0.494053</td>\n",
              "    </tr>\n",
              "    <tr>\n",
              "      <th>min</th>\n",
              "      <td>4.442820e+08</td>\n",
              "      <td>0.000000</td>\n",
              "      <td>0.000000</td>\n",
              "    </tr>\n",
              "    <tr>\n",
              "      <th>25%</th>\n",
              "      <td>7.673164e+08</td>\n",
              "      <td>3.700000</td>\n",
              "      <td>0.000000</td>\n",
              "    </tr>\n",
              "    <tr>\n",
              "      <th>50%</th>\n",
              "      <td>9.083296e+08</td>\n",
              "      <td>4.600000</td>\n",
              "      <td>0.000000</td>\n",
              "    </tr>\n",
              "    <tr>\n",
              "      <th>75%</th>\n",
              "      <td>1.039534e+09</td>\n",
              "      <td>4.800000</td>\n",
              "      <td>1.000000</td>\n",
              "    </tr>\n",
              "    <tr>\n",
              "      <th>max</th>\n",
              "      <td>1.253973e+09</td>\n",
              "      <td>5.000000</td>\n",
              "      <td>1.000000</td>\n",
              "    </tr>\n",
              "  </tbody>\n",
              "</table>\n",
              "</div>"
            ],
            "text/plain": [
              "           Dress_ID      Rating  Recommendation\n",
              "count  5.000000e+02  500.000000      500.000000\n",
              "mean   9.055417e+08    3.528600        0.420000\n",
              "std    1.736190e+08    2.005364        0.494053\n",
              "min    4.442820e+08    0.000000        0.000000\n",
              "25%    7.673164e+08    3.700000        0.000000\n",
              "50%    9.083296e+08    4.600000        0.000000\n",
              "75%    1.039534e+09    4.800000        1.000000\n",
              "max    1.253973e+09    5.000000        1.000000"
            ]
          },
          "metadata": {
            "tags": []
          },
          "execution_count": 264
        }
      ]
    },
    {
      "cell_type": "code",
      "metadata": {
        "id": "-81uBuOG1uC1",
        "colab": {
          "base_uri": "https://localhost:8080/"
        },
        "outputId": "e03a8058-d2ed-455c-87c1-e33e28827369"
      },
      "source": [
        "df_data.index"
      ],
      "execution_count": null,
      "outputs": [
        {
          "output_type": "execute_result",
          "data": {
            "text/plain": [
              "RangeIndex(start=0, stop=500, step=1)"
            ]
          },
          "metadata": {
            "tags": []
          },
          "execution_count": 265
        }
      ]
    },
    {
      "cell_type": "markdown",
      "metadata": {
        "id": "pQR2bryV18Vr"
      },
      "source": [
        "## **Summary Statistics**"
      ]
    },
    {
      "cell_type": "code",
      "metadata": {
        "colab": {
          "base_uri": "https://localhost:8080/"
        },
        "id": "PupppjiX5c4R",
        "outputId": "a0af2314-b97e-4af9-888c-229cd065debc"
      },
      "source": [
        "df_data.count()"
      ],
      "execution_count": null,
      "outputs": [
        {
          "output_type": "execute_result",
          "data": {
            "text/plain": [
              "Dress_ID          500\n",
              "Style             500\n",
              "Price             498\n",
              "Rating            500\n",
              "Size              500\n",
              "Season            498\n",
              "NeckLine          497\n",
              "SleeveLength      498\n",
              "waiseline         413\n",
              "Material          372\n",
              "FabricType        234\n",
              "Decoration        264\n",
              "Pattern Type      391\n",
              "Recommendation    500\n",
              "dtype: int64"
            ]
          },
          "metadata": {
            "tags": []
          },
          "execution_count": 266
        }
      ]
    },
    {
      "cell_type": "code",
      "metadata": {
        "colab": {
          "base_uri": "https://localhost:8080/"
        },
        "id": "FxCk2Y0O5tzZ",
        "outputId": "5c610358-6a3b-4778-e43b-6fe5fe5b547a"
      },
      "source": [
        "df_data.min()"
      ],
      "execution_count": null,
      "outputs": [
        {
          "output_type": "execute_result",
          "data": {
            "text/plain": [
              "Dress_ID          444282011\n",
              "Style                 Brief\n",
              "Rating                    0\n",
              "Size                      L\n",
              "Recommendation            0\n",
              "dtype: object"
            ]
          },
          "metadata": {
            "tags": []
          },
          "execution_count": 267
        }
      ]
    },
    {
      "cell_type": "code",
      "metadata": {
        "colab": {
          "base_uri": "https://localhost:8080/"
        },
        "id": "icin_Tg4538R",
        "outputId": "988d281b-88a0-4449-ede4-4213c632bb9c"
      },
      "source": [
        "df_data.max()"
      ],
      "execution_count": null,
      "outputs": [
        {
          "output_type": "execute_result",
          "data": {
            "text/plain": [
              "Dress_ID          1253973206\n",
              "Style                   work\n",
              "Rating                     5\n",
              "Size                   small\n",
              "Recommendation             1\n",
              "dtype: object"
            ]
          },
          "metadata": {
            "tags": []
          },
          "execution_count": 268
        }
      ]
    },
    {
      "cell_type": "code",
      "metadata": {
        "colab": {
          "base_uri": "https://localhost:8080/"
        },
        "id": "y_1nMmMaxGRZ",
        "outputId": "737eee39-dd4d-41c7-92ec-6a687754dcfa"
      },
      "source": [
        "df_data.quantile()"
      ],
      "execution_count": null,
      "outputs": [
        {
          "output_type": "execute_result",
          "data": {
            "text/plain": [
              "Rating            4.6\n",
              "Recommendation    0.0\n",
              "Name: 0.5, dtype: float64"
            ]
          },
          "metadata": {
            "tags": []
          },
          "execution_count": 308
        }
      ]
    },
    {
      "cell_type": "code",
      "metadata": {
        "colab": {
          "base_uri": "https://localhost:8080/"
        },
        "id": "pSZRLtdMxGU-",
        "outputId": "c6f9016a-7f98-4f0f-b172-89445a62f83f"
      },
      "source": [
        "df_data.sum()"
      ],
      "execution_count": null,
      "outputs": [
        {
          "output_type": "execute_result",
          "data": {
            "text/plain": [
              "Style             SexyCasualvintageBriefcutebohemianCasualNovelt...\n",
              "Rating                                                       1764.3\n",
              "Size              MLLLMMXLfreefreefreefreefreeMMMfreeLfreeMMLMXL...\n",
              "Recommendation                                                  210\n",
              "dtype: object"
            ]
          },
          "metadata": {
            "tags": []
          },
          "execution_count": 310
        }
      ]
    },
    {
      "cell_type": "code",
      "metadata": {
        "colab": {
          "base_uri": "https://localhost:8080/"
        },
        "id": "A7sKN9whxGYg",
        "outputId": "d76ab3fc-8c34-491f-9198-be8f0e0b7037"
      },
      "source": [
        "df_data.mean()"
      ],
      "execution_count": null,
      "outputs": [
        {
          "output_type": "execute_result",
          "data": {
            "text/plain": [
              "Rating            3.5286\n",
              "Recommendation    0.4200\n",
              "dtype: float64"
            ]
          },
          "metadata": {
            "tags": []
          },
          "execution_count": 311
        }
      ]
    },
    {
      "cell_type": "code",
      "metadata": {
        "colab": {
          "base_uri": "https://localhost:8080/"
        },
        "id": "pG2gVwEZxGco",
        "outputId": "78f3aa1f-1b1a-4575-c023-532b487b94c4"
      },
      "source": [
        "df_data.mean()"
      ],
      "execution_count": null,
      "outputs": [
        {
          "output_type": "execute_result",
          "data": {
            "text/plain": [
              "Rating            3.5286\n",
              "Recommendation    0.4200\n",
              "dtype: float64"
            ]
          },
          "metadata": {
            "tags": []
          },
          "execution_count": 312
        }
      ]
    },
    {
      "cell_type": "code",
      "metadata": {
        "colab": {
          "base_uri": "https://localhost:8080/"
        },
        "id": "FUjnWKvrAeT_",
        "outputId": "42b05a3a-9c7e-4430-90fc-99e019a7d5a6"
      },
      "source": [
        "df_data.mad()"
      ],
      "execution_count": null,
      "outputs": [
        {
          "output_type": "execute_result",
          "data": {
            "text/plain": [
              "Rating            1.706071\n",
              "Recommendation    0.487200\n",
              "dtype: float64"
            ]
          },
          "metadata": {
            "tags": []
          },
          "execution_count": 313
        }
      ]
    },
    {
      "cell_type": "code",
      "metadata": {
        "colab": {
          "base_uri": "https://localhost:8080/"
        },
        "id": "EWdQJUKIAecg",
        "outputId": "1c4aed70-6cb4-49fa-d994-a7a72357c3e9"
      },
      "source": [
        "df_data.prod()"
      ],
      "execution_count": null,
      "outputs": [
        {
          "output_type": "execute_result",
          "data": {
            "text/plain": [
              "Rating            0.0\n",
              "Recommendation    0.0\n",
              "dtype: float64"
            ]
          },
          "metadata": {
            "tags": []
          },
          "execution_count": 314
        }
      ]
    },
    {
      "cell_type": "code",
      "metadata": {
        "colab": {
          "base_uri": "https://localhost:8080/"
        },
        "id": "6zppoiiBAefe",
        "outputId": "a5e6313c-1ed0-4e51-e16e-d56affaf9378"
      },
      "source": [
        "df_data.var()"
      ],
      "execution_count": null,
      "outputs": [
        {
          "output_type": "execute_result",
          "data": {
            "text/plain": [
              "Rating            4.021485\n",
              "Recommendation    0.244088\n",
              "dtype: float64"
            ]
          },
          "metadata": {
            "tags": []
          },
          "execution_count": 315
        }
      ]
    },
    {
      "cell_type": "code",
      "metadata": {
        "colab": {
          "base_uri": "https://localhost:8080/"
        },
        "id": "zWl1pjeoCVfZ",
        "outputId": "07dc96b5-3e22-4b8b-cb2f-8b4b4252295b"
      },
      "source": [
        "df_data.std()"
      ],
      "execution_count": null,
      "outputs": [
        {
          "output_type": "execute_result",
          "data": {
            "text/plain": [
              "Rating            2.005364\n",
              "Recommendation    0.494053\n",
              "dtype: float64"
            ]
          },
          "metadata": {
            "tags": []
          },
          "execution_count": 316
        }
      ]
    },
    {
      "cell_type": "code",
      "metadata": {
        "colab": {
          "base_uri": "https://localhost:8080/"
        },
        "id": "ZqvAzo4HCViF",
        "outputId": "cb33be27-f0e6-4d1f-b983-2c8b5f4835a3"
      },
      "source": [
        "df_data.skew()"
      ],
      "execution_count": null,
      "outputs": [
        {
          "output_type": "execute_result",
          "data": {
            "text/plain": [
              "Rating           -1.164765\n",
              "Recommendation    0.325153\n",
              "dtype: float64"
            ]
          },
          "metadata": {
            "tags": []
          },
          "execution_count": 317
        }
      ]
    },
    {
      "cell_type": "code",
      "metadata": {
        "colab": {
          "base_uri": "https://localhost:8080/"
        },
        "id": "KKkd7kpeCv1T",
        "outputId": "48c8778d-c65a-45bd-c2b8-d7a249a1827a"
      },
      "source": [
        "df_data.kurt()"
      ],
      "execution_count": null,
      "outputs": [
        {
          "output_type": "execute_result",
          "data": {
            "text/plain": [
              "Rating           -0.582089\n",
              "Recommendation   -1.901899\n",
              "dtype: float64"
            ]
          },
          "metadata": {
            "tags": []
          },
          "execution_count": 318
        }
      ]
    },
    {
      "cell_type": "code",
      "metadata": {
        "colab": {
          "base_uri": "https://localhost:8080/",
          "height": 297
        },
        "id": "tC7ugCjxEFMM",
        "outputId": "75330948-d4d0-4595-cba9-01a727b774d2"
      },
      "source": [
        "df_data.describe()"
      ],
      "execution_count": null,
      "outputs": [
        {
          "output_type": "execute_result",
          "data": {
            "text/html": [
              "<div>\n",
              "<style scoped>\n",
              "    .dataframe tbody tr th:only-of-type {\n",
              "        vertical-align: middle;\n",
              "    }\n",
              "\n",
              "    .dataframe tbody tr th {\n",
              "        vertical-align: top;\n",
              "    }\n",
              "\n",
              "    .dataframe thead th {\n",
              "        text-align: right;\n",
              "    }\n",
              "</style>\n",
              "<table border=\"1\" class=\"dataframe\">\n",
              "  <thead>\n",
              "    <tr style=\"text-align: right;\">\n",
              "      <th></th>\n",
              "      <th>Rating</th>\n",
              "      <th>Recommendation</th>\n",
              "    </tr>\n",
              "  </thead>\n",
              "  <tbody>\n",
              "    <tr>\n",
              "      <th>count</th>\n",
              "      <td>500.000000</td>\n",
              "      <td>500.000000</td>\n",
              "    </tr>\n",
              "    <tr>\n",
              "      <th>mean</th>\n",
              "      <td>3.528600</td>\n",
              "      <td>0.420000</td>\n",
              "    </tr>\n",
              "    <tr>\n",
              "      <th>std</th>\n",
              "      <td>2.005364</td>\n",
              "      <td>0.494053</td>\n",
              "    </tr>\n",
              "    <tr>\n",
              "      <th>min</th>\n",
              "      <td>0.000000</td>\n",
              "      <td>0.000000</td>\n",
              "    </tr>\n",
              "    <tr>\n",
              "      <th>25%</th>\n",
              "      <td>3.700000</td>\n",
              "      <td>0.000000</td>\n",
              "    </tr>\n",
              "    <tr>\n",
              "      <th>50%</th>\n",
              "      <td>4.600000</td>\n",
              "      <td>0.000000</td>\n",
              "    </tr>\n",
              "    <tr>\n",
              "      <th>75%</th>\n",
              "      <td>4.800000</td>\n",
              "      <td>1.000000</td>\n",
              "    </tr>\n",
              "    <tr>\n",
              "      <th>max</th>\n",
              "      <td>5.000000</td>\n",
              "      <td>1.000000</td>\n",
              "    </tr>\n",
              "  </tbody>\n",
              "</table>\n",
              "</div>"
            ],
            "text/plain": [
              "           Rating  Recommendation\n",
              "count  500.000000      500.000000\n",
              "mean     3.528600        0.420000\n",
              "std      2.005364        0.494053\n",
              "min      0.000000        0.000000\n",
              "25%      3.700000        0.000000\n",
              "50%      4.600000        0.000000\n",
              "75%      4.800000        1.000000\n",
              "max      5.000000        1.000000"
            ]
          },
          "metadata": {
            "tags": []
          },
          "execution_count": 325
        }
      ]
    },
    {
      "cell_type": "markdown",
      "metadata": {
        "id": "23nWoR-b6d5D"
      },
      "source": [
        "##**Data Manipulation**"
      ]
    },
    {
      "cell_type": "code",
      "metadata": {
        "id": "RceOkG9U1uFO",
        "colab": {
          "base_uri": "https://localhost:8080/"
        },
        "outputId": "d3987aee-a529-4089-f7c4-ce3745d7dbaf"
      },
      "source": [
        "df_data.isnull().sum()"
      ],
      "execution_count": null,
      "outputs": [
        {
          "output_type": "execute_result",
          "data": {
            "text/plain": [
              "Dress_ID            0\n",
              "Style               0\n",
              "Price               2\n",
              "Rating              0\n",
              "Size                0\n",
              "Season              2\n",
              "NeckLine            3\n",
              "SleeveLength        2\n",
              "waiseline          87\n",
              "Material          128\n",
              "FabricType        266\n",
              "Decoration        236\n",
              "Pattern Type      109\n",
              "Recommendation      0\n",
              "dtype: int64"
            ]
          },
          "metadata": {
            "tags": []
          },
          "execution_count": 269
        }
      ]
    },
    {
      "cell_type": "code",
      "metadata": {
        "id": "OKxE6OAv1uJK",
        "colab": {
          "base_uri": "https://localhost:8080/"
        },
        "outputId": "01c382ae-4991-4ca1-f12b-5954365d479c"
      },
      "source": [
        "df_data['Material'].value_counts().index"
      ],
      "execution_count": null,
      "outputs": [
        {
          "output_type": "execute_result",
          "data": {
            "text/plain": [
              "Index(['cotton', 'polyster', 'silk', 'chiffonfabric', 'mix', 'nylon', 'rayon',\n",
              "       'spandex', 'milksilk', 'cashmere', 'acrylic', 'lycra', 'microfiber',\n",
              "       'linen', 'other', 'shiffon', 'viscos', 'knitting', 'modal', 'model',\n",
              "       'sill', 'lace', 'wool'],\n",
              "      dtype='object')"
            ]
          },
          "metadata": {
            "tags": []
          },
          "execution_count": 270
        }
      ]
    },
    {
      "cell_type": "markdown",
      "metadata": {
        "id": "rlpAN9S42pEz"
      },
      "source": [
        "## **Selecting Data using loc and iloc**"
      ]
    },
    {
      "cell_type": "code",
      "metadata": {
        "id": "8RmoFh5S2jXr",
        "colab": {
          "base_uri": "https://localhost:8080/",
          "height": 235
        },
        "outputId": "8a1544f8-8b83-4205-bac1-88316cf79ab9"
      },
      "source": [
        "df_data.loc[0:5,['Style', 'Rating','Recommendation']]"
      ],
      "execution_count": null,
      "outputs": [
        {
          "output_type": "execute_result",
          "data": {
            "text/html": [
              "<div>\n",
              "<style scoped>\n",
              "    .dataframe tbody tr th:only-of-type {\n",
              "        vertical-align: middle;\n",
              "    }\n",
              "\n",
              "    .dataframe tbody tr th {\n",
              "        vertical-align: top;\n",
              "    }\n",
              "\n",
              "    .dataframe thead th {\n",
              "        text-align: right;\n",
              "    }\n",
              "</style>\n",
              "<table border=\"1\" class=\"dataframe\">\n",
              "  <thead>\n",
              "    <tr style=\"text-align: right;\">\n",
              "      <th></th>\n",
              "      <th>Style</th>\n",
              "      <th>Rating</th>\n",
              "      <th>Recommendation</th>\n",
              "    </tr>\n",
              "  </thead>\n",
              "  <tbody>\n",
              "    <tr>\n",
              "      <th>0</th>\n",
              "      <td>Sexy</td>\n",
              "      <td>4.6</td>\n",
              "      <td>1</td>\n",
              "    </tr>\n",
              "    <tr>\n",
              "      <th>1</th>\n",
              "      <td>Casual</td>\n",
              "      <td>0.0</td>\n",
              "      <td>0</td>\n",
              "    </tr>\n",
              "    <tr>\n",
              "      <th>2</th>\n",
              "      <td>vintage</td>\n",
              "      <td>0.0</td>\n",
              "      <td>0</td>\n",
              "    </tr>\n",
              "    <tr>\n",
              "      <th>3</th>\n",
              "      <td>Brief</td>\n",
              "      <td>4.6</td>\n",
              "      <td>1</td>\n",
              "    </tr>\n",
              "    <tr>\n",
              "      <th>4</th>\n",
              "      <td>cute</td>\n",
              "      <td>4.5</td>\n",
              "      <td>0</td>\n",
              "    </tr>\n",
              "    <tr>\n",
              "      <th>5</th>\n",
              "      <td>bohemian</td>\n",
              "      <td>0.0</td>\n",
              "      <td>0</td>\n",
              "    </tr>\n",
              "  </tbody>\n",
              "</table>\n",
              "</div>"
            ],
            "text/plain": [
              "      Style  Rating  Recommendation\n",
              "0      Sexy     4.6               1\n",
              "1    Casual     0.0               0\n",
              "2   vintage     0.0               0\n",
              "3     Brief     4.6               1\n",
              "4      cute     4.5               0\n",
              "5  bohemian     0.0               0"
            ]
          },
          "metadata": {
            "tags": []
          },
          "execution_count": 271
        }
      ]
    },
    {
      "cell_type": "code",
      "metadata": {
        "id": "N4jQwp2H2jcX",
        "colab": {
          "base_uri": "https://localhost:8080/"
        },
        "outputId": "b796be5e-5505-4092-df73-1f461600d87e"
      },
      "source": [
        "df_data.iloc[:,-1]"
      ],
      "execution_count": null,
      "outputs": [
        {
          "output_type": "execute_result",
          "data": {
            "text/plain": [
              "0      1\n",
              "1      0\n",
              "2      0\n",
              "3      1\n",
              "4      0\n",
              "      ..\n",
              "495    1\n",
              "496    0\n",
              "497    1\n",
              "498    1\n",
              "499    0\n",
              "Name: Recommendation, Length: 500, dtype: int64"
            ]
          },
          "metadata": {
            "tags": []
          },
          "execution_count": 272
        }
      ]
    },
    {
      "cell_type": "code",
      "metadata": {
        "id": "WFYVUMK82jm_",
        "colab": {
          "base_uri": "https://localhost:8080/",
          "height": 419
        },
        "outputId": "06d37b2a-10a8-4710-e17e-18da1a0450c2"
      },
      "source": [
        "df_data.iloc[1:300,2:6]"
      ],
      "execution_count": null,
      "outputs": [
        {
          "output_type": "execute_result",
          "data": {
            "text/html": [
              "<div>\n",
              "<style scoped>\n",
              "    .dataframe tbody tr th:only-of-type {\n",
              "        vertical-align: middle;\n",
              "    }\n",
              "\n",
              "    .dataframe tbody tr th {\n",
              "        vertical-align: top;\n",
              "    }\n",
              "\n",
              "    .dataframe thead th {\n",
              "        text-align: right;\n",
              "    }\n",
              "</style>\n",
              "<table border=\"1\" class=\"dataframe\">\n",
              "  <thead>\n",
              "    <tr style=\"text-align: right;\">\n",
              "      <th></th>\n",
              "      <th>Price</th>\n",
              "      <th>Rating</th>\n",
              "      <th>Size</th>\n",
              "      <th>Season</th>\n",
              "    </tr>\n",
              "  </thead>\n",
              "  <tbody>\n",
              "    <tr>\n",
              "      <th>1</th>\n",
              "      <td>Low</td>\n",
              "      <td>0.0</td>\n",
              "      <td>L</td>\n",
              "      <td>Summer</td>\n",
              "    </tr>\n",
              "    <tr>\n",
              "      <th>2</th>\n",
              "      <td>High</td>\n",
              "      <td>0.0</td>\n",
              "      <td>L</td>\n",
              "      <td>Automn</td>\n",
              "    </tr>\n",
              "    <tr>\n",
              "      <th>3</th>\n",
              "      <td>Average</td>\n",
              "      <td>4.6</td>\n",
              "      <td>L</td>\n",
              "      <td>Spring</td>\n",
              "    </tr>\n",
              "    <tr>\n",
              "      <th>4</th>\n",
              "      <td>Low</td>\n",
              "      <td>4.5</td>\n",
              "      <td>M</td>\n",
              "      <td>Summer</td>\n",
              "    </tr>\n",
              "    <tr>\n",
              "      <th>5</th>\n",
              "      <td>Low</td>\n",
              "      <td>0.0</td>\n",
              "      <td>M</td>\n",
              "      <td>Summer</td>\n",
              "    </tr>\n",
              "    <tr>\n",
              "      <th>...</th>\n",
              "      <td>...</td>\n",
              "      <td>...</td>\n",
              "      <td>...</td>\n",
              "      <td>...</td>\n",
              "    </tr>\n",
              "    <tr>\n",
              "      <th>295</th>\n",
              "      <td>very-high</td>\n",
              "      <td>0.0</td>\n",
              "      <td>small</td>\n",
              "      <td>Spring</td>\n",
              "    </tr>\n",
              "    <tr>\n",
              "      <th>296</th>\n",
              "      <td>Medium</td>\n",
              "      <td>4.7</td>\n",
              "      <td>M</td>\n",
              "      <td>Spring</td>\n",
              "    </tr>\n",
              "    <tr>\n",
              "      <th>297</th>\n",
              "      <td>Average</td>\n",
              "      <td>0.0</td>\n",
              "      <td>M</td>\n",
              "      <td>Spring</td>\n",
              "    </tr>\n",
              "    <tr>\n",
              "      <th>298</th>\n",
              "      <td>Average</td>\n",
              "      <td>4.4</td>\n",
              "      <td>free</td>\n",
              "      <td>Summer</td>\n",
              "    </tr>\n",
              "    <tr>\n",
              "      <th>299</th>\n",
              "      <td>very-high</td>\n",
              "      <td>4.6</td>\n",
              "      <td>M</td>\n",
              "      <td>winter</td>\n",
              "    </tr>\n",
              "  </tbody>\n",
              "</table>\n",
              "<p>299 rows × 4 columns</p>\n",
              "</div>"
            ],
            "text/plain": [
              "         Price  Rating   Size  Season\n",
              "1          Low     0.0      L  Summer\n",
              "2         High     0.0      L  Automn\n",
              "3      Average     4.6      L  Spring\n",
              "4          Low     4.5      M  Summer\n",
              "5          Low     0.0      M  Summer\n",
              "..         ...     ...    ...     ...\n",
              "295  very-high     0.0  small  Spring\n",
              "296     Medium     4.7      M  Spring\n",
              "297    Average     0.0      M  Spring\n",
              "298    Average     4.4   free  Summer\n",
              "299  very-high     4.6      M  winter\n",
              "\n",
              "[299 rows x 4 columns]"
            ]
          },
          "metadata": {
            "tags": []
          },
          "execution_count": 273
        }
      ]
    },
    {
      "cell_type": "markdown",
      "metadata": {
        "id": "3REp4zK-QeaC"
      },
      "source": [
        "##**Dropping Data**"
      ]
    },
    {
      "cell_type": "code",
      "metadata": {
        "colab": {
          "base_uri": "https://localhost:8080/",
          "height": 419
        },
        "id": "omNsW5ZaoAk3",
        "outputId": "3218c121-c903-417a-bccc-52f99a72dd90"
      },
      "source": [
        "df_data"
      ],
      "execution_count": null,
      "outputs": [
        {
          "output_type": "execute_result",
          "data": {
            "text/html": [
              "<div>\n",
              "<style scoped>\n",
              "    .dataframe tbody tr th:only-of-type {\n",
              "        vertical-align: middle;\n",
              "    }\n",
              "\n",
              "    .dataframe tbody tr th {\n",
              "        vertical-align: top;\n",
              "    }\n",
              "\n",
              "    .dataframe thead th {\n",
              "        text-align: right;\n",
              "    }\n",
              "</style>\n",
              "<table border=\"1\" class=\"dataframe\">\n",
              "  <thead>\n",
              "    <tr style=\"text-align: right;\">\n",
              "      <th></th>\n",
              "      <th>Dress_ID</th>\n",
              "      <th>Style</th>\n",
              "      <th>Price</th>\n",
              "      <th>Rating</th>\n",
              "      <th>Size</th>\n",
              "      <th>Season</th>\n",
              "      <th>NeckLine</th>\n",
              "      <th>SleeveLength</th>\n",
              "      <th>waiseline</th>\n",
              "      <th>Material</th>\n",
              "      <th>FabricType</th>\n",
              "      <th>Decoration</th>\n",
              "      <th>Pattern Type</th>\n",
              "      <th>Recommendation</th>\n",
              "    </tr>\n",
              "  </thead>\n",
              "  <tbody>\n",
              "    <tr>\n",
              "      <th>0</th>\n",
              "      <td>1006032852</td>\n",
              "      <td>Sexy</td>\n",
              "      <td>Low</td>\n",
              "      <td>4.6</td>\n",
              "      <td>M</td>\n",
              "      <td>Summer</td>\n",
              "      <td>o-neck</td>\n",
              "      <td>sleevless</td>\n",
              "      <td>empire</td>\n",
              "      <td>NaN</td>\n",
              "      <td>chiffon</td>\n",
              "      <td>ruffles</td>\n",
              "      <td>animal</td>\n",
              "      <td>1</td>\n",
              "    </tr>\n",
              "    <tr>\n",
              "      <th>1</th>\n",
              "      <td>1212192089</td>\n",
              "      <td>Casual</td>\n",
              "      <td>Low</td>\n",
              "      <td>0.0</td>\n",
              "      <td>L</td>\n",
              "      <td>Summer</td>\n",
              "      <td>o-neck</td>\n",
              "      <td>Petal</td>\n",
              "      <td>natural</td>\n",
              "      <td>microfiber</td>\n",
              "      <td>NaN</td>\n",
              "      <td>ruffles</td>\n",
              "      <td>animal</td>\n",
              "      <td>0</td>\n",
              "    </tr>\n",
              "    <tr>\n",
              "      <th>2</th>\n",
              "      <td>1190380701</td>\n",
              "      <td>vintage</td>\n",
              "      <td>High</td>\n",
              "      <td>0.0</td>\n",
              "      <td>L</td>\n",
              "      <td>Automn</td>\n",
              "      <td>o-neck</td>\n",
              "      <td>full</td>\n",
              "      <td>natural</td>\n",
              "      <td>polyster</td>\n",
              "      <td>NaN</td>\n",
              "      <td>NaN</td>\n",
              "      <td>print</td>\n",
              "      <td>0</td>\n",
              "    </tr>\n",
              "    <tr>\n",
              "      <th>3</th>\n",
              "      <td>966005983</td>\n",
              "      <td>Brief</td>\n",
              "      <td>Average</td>\n",
              "      <td>4.6</td>\n",
              "      <td>L</td>\n",
              "      <td>Spring</td>\n",
              "      <td>o-neck</td>\n",
              "      <td>full</td>\n",
              "      <td>natural</td>\n",
              "      <td>silk</td>\n",
              "      <td>chiffon</td>\n",
              "      <td>embroidary</td>\n",
              "      <td>print</td>\n",
              "      <td>1</td>\n",
              "    </tr>\n",
              "    <tr>\n",
              "      <th>4</th>\n",
              "      <td>876339541</td>\n",
              "      <td>cute</td>\n",
              "      <td>Low</td>\n",
              "      <td>4.5</td>\n",
              "      <td>M</td>\n",
              "      <td>Summer</td>\n",
              "      <td>o-neck</td>\n",
              "      <td>butterfly</td>\n",
              "      <td>natural</td>\n",
              "      <td>chiffonfabric</td>\n",
              "      <td>chiffon</td>\n",
              "      <td>bow</td>\n",
              "      <td>dot</td>\n",
              "      <td>0</td>\n",
              "    </tr>\n",
              "    <tr>\n",
              "      <th>...</th>\n",
              "      <td>...</td>\n",
              "      <td>...</td>\n",
              "      <td>...</td>\n",
              "      <td>...</td>\n",
              "      <td>...</td>\n",
              "      <td>...</td>\n",
              "      <td>...</td>\n",
              "      <td>...</td>\n",
              "      <td>...</td>\n",
              "      <td>...</td>\n",
              "      <td>...</td>\n",
              "      <td>...</td>\n",
              "      <td>...</td>\n",
              "      <td>...</td>\n",
              "    </tr>\n",
              "    <tr>\n",
              "      <th>495</th>\n",
              "      <td>713391965</td>\n",
              "      <td>Casual</td>\n",
              "      <td>Low</td>\n",
              "      <td>4.7</td>\n",
              "      <td>M</td>\n",
              "      <td>Spring</td>\n",
              "      <td>o-neck</td>\n",
              "      <td>full</td>\n",
              "      <td>natural</td>\n",
              "      <td>polyster</td>\n",
              "      <td>NaN</td>\n",
              "      <td>NaN</td>\n",
              "      <td>solid</td>\n",
              "      <td>1</td>\n",
              "    </tr>\n",
              "    <tr>\n",
              "      <th>496</th>\n",
              "      <td>722565148</td>\n",
              "      <td>Sexy</td>\n",
              "      <td>Low</td>\n",
              "      <td>4.3</td>\n",
              "      <td>free</td>\n",
              "      <td>Summer</td>\n",
              "      <td>o-neck</td>\n",
              "      <td>full</td>\n",
              "      <td>empire</td>\n",
              "      <td>cotton</td>\n",
              "      <td>NaN</td>\n",
              "      <td>NaN</td>\n",
              "      <td>NaN</td>\n",
              "      <td>0</td>\n",
              "    </tr>\n",
              "    <tr>\n",
              "      <th>497</th>\n",
              "      <td>532874347</td>\n",
              "      <td>Casual</td>\n",
              "      <td>Average</td>\n",
              "      <td>4.7</td>\n",
              "      <td>M</td>\n",
              "      <td>Summer</td>\n",
              "      <td>v-neck</td>\n",
              "      <td>full</td>\n",
              "      <td>empire</td>\n",
              "      <td>cotton</td>\n",
              "      <td>NaN</td>\n",
              "      <td>lace</td>\n",
              "      <td>solid</td>\n",
              "      <td>1</td>\n",
              "    </tr>\n",
              "    <tr>\n",
              "      <th>498</th>\n",
              "      <td>655464934</td>\n",
              "      <td>Casual</td>\n",
              "      <td>Average</td>\n",
              "      <td>4.6</td>\n",
              "      <td>L</td>\n",
              "      <td>winter</td>\n",
              "      <td>boat-neck</td>\n",
              "      <td>sleevless</td>\n",
              "      <td>empire</td>\n",
              "      <td>silk</td>\n",
              "      <td>broadcloth</td>\n",
              "      <td>applique</td>\n",
              "      <td>print</td>\n",
              "      <td>1</td>\n",
              "    </tr>\n",
              "    <tr>\n",
              "      <th>499</th>\n",
              "      <td>919930954</td>\n",
              "      <td>Casual</td>\n",
              "      <td>Low</td>\n",
              "      <td>4.4</td>\n",
              "      <td>free</td>\n",
              "      <td>Summer</td>\n",
              "      <td>v-neck</td>\n",
              "      <td>short</td>\n",
              "      <td>empire</td>\n",
              "      <td>cotton</td>\n",
              "      <td>Corduroy</td>\n",
              "      <td>lace</td>\n",
              "      <td>solid</td>\n",
              "      <td>0</td>\n",
              "    </tr>\n",
              "  </tbody>\n",
              "</table>\n",
              "<p>500 rows × 14 columns</p>\n",
              "</div>"
            ],
            "text/plain": [
              "       Dress_ID    Style    Price  ...  Decoration Pattern Type Recommendation\n",
              "0    1006032852     Sexy      Low  ...     ruffles       animal              1\n",
              "1    1212192089   Casual      Low  ...     ruffles       animal              0\n",
              "2    1190380701  vintage     High  ...         NaN        print              0\n",
              "3     966005983    Brief  Average  ...  embroidary        print              1\n",
              "4     876339541     cute      Low  ...         bow          dot              0\n",
              "..          ...      ...      ...  ...         ...          ...            ...\n",
              "495   713391965   Casual      Low  ...         NaN        solid              1\n",
              "496   722565148     Sexy      Low  ...         NaN          NaN              0\n",
              "497   532874347   Casual  Average  ...        lace        solid              1\n",
              "498   655464934   Casual  Average  ...    applique        print              1\n",
              "499   919930954   Casual      Low  ...        lace        solid              0\n",
              "\n",
              "[500 rows x 14 columns]"
            ]
          },
          "metadata": {
            "tags": []
          },
          "execution_count": 274
        }
      ]
    },
    {
      "cell_type": "code",
      "metadata": {
        "id": "10jY2_ACQbzc",
        "colab": {
          "base_uri": "https://localhost:8080/",
          "height": 419
        },
        "outputId": "ebbd6e9f-d28f-4be2-af9c-2b3349ff078e"
      },
      "source": [
        "df_data = df_data.drop(['Dress_ID'],axis=1)\n",
        "df_data"
      ],
      "execution_count": null,
      "outputs": [
        {
          "output_type": "execute_result",
          "data": {
            "text/html": [
              "<div>\n",
              "<style scoped>\n",
              "    .dataframe tbody tr th:only-of-type {\n",
              "        vertical-align: middle;\n",
              "    }\n",
              "\n",
              "    .dataframe tbody tr th {\n",
              "        vertical-align: top;\n",
              "    }\n",
              "\n",
              "    .dataframe thead th {\n",
              "        text-align: right;\n",
              "    }\n",
              "</style>\n",
              "<table border=\"1\" class=\"dataframe\">\n",
              "  <thead>\n",
              "    <tr style=\"text-align: right;\">\n",
              "      <th></th>\n",
              "      <th>Style</th>\n",
              "      <th>Price</th>\n",
              "      <th>Rating</th>\n",
              "      <th>Size</th>\n",
              "      <th>Season</th>\n",
              "      <th>NeckLine</th>\n",
              "      <th>SleeveLength</th>\n",
              "      <th>waiseline</th>\n",
              "      <th>Material</th>\n",
              "      <th>FabricType</th>\n",
              "      <th>Decoration</th>\n",
              "      <th>Pattern Type</th>\n",
              "      <th>Recommendation</th>\n",
              "    </tr>\n",
              "  </thead>\n",
              "  <tbody>\n",
              "    <tr>\n",
              "      <th>0</th>\n",
              "      <td>Sexy</td>\n",
              "      <td>Low</td>\n",
              "      <td>4.6</td>\n",
              "      <td>M</td>\n",
              "      <td>Summer</td>\n",
              "      <td>o-neck</td>\n",
              "      <td>sleevless</td>\n",
              "      <td>empire</td>\n",
              "      <td>NaN</td>\n",
              "      <td>chiffon</td>\n",
              "      <td>ruffles</td>\n",
              "      <td>animal</td>\n",
              "      <td>1</td>\n",
              "    </tr>\n",
              "    <tr>\n",
              "      <th>1</th>\n",
              "      <td>Casual</td>\n",
              "      <td>Low</td>\n",
              "      <td>0.0</td>\n",
              "      <td>L</td>\n",
              "      <td>Summer</td>\n",
              "      <td>o-neck</td>\n",
              "      <td>Petal</td>\n",
              "      <td>natural</td>\n",
              "      <td>microfiber</td>\n",
              "      <td>NaN</td>\n",
              "      <td>ruffles</td>\n",
              "      <td>animal</td>\n",
              "      <td>0</td>\n",
              "    </tr>\n",
              "    <tr>\n",
              "      <th>2</th>\n",
              "      <td>vintage</td>\n",
              "      <td>High</td>\n",
              "      <td>0.0</td>\n",
              "      <td>L</td>\n",
              "      <td>Automn</td>\n",
              "      <td>o-neck</td>\n",
              "      <td>full</td>\n",
              "      <td>natural</td>\n",
              "      <td>polyster</td>\n",
              "      <td>NaN</td>\n",
              "      <td>NaN</td>\n",
              "      <td>print</td>\n",
              "      <td>0</td>\n",
              "    </tr>\n",
              "    <tr>\n",
              "      <th>3</th>\n",
              "      <td>Brief</td>\n",
              "      <td>Average</td>\n",
              "      <td>4.6</td>\n",
              "      <td>L</td>\n",
              "      <td>Spring</td>\n",
              "      <td>o-neck</td>\n",
              "      <td>full</td>\n",
              "      <td>natural</td>\n",
              "      <td>silk</td>\n",
              "      <td>chiffon</td>\n",
              "      <td>embroidary</td>\n",
              "      <td>print</td>\n",
              "      <td>1</td>\n",
              "    </tr>\n",
              "    <tr>\n",
              "      <th>4</th>\n",
              "      <td>cute</td>\n",
              "      <td>Low</td>\n",
              "      <td>4.5</td>\n",
              "      <td>M</td>\n",
              "      <td>Summer</td>\n",
              "      <td>o-neck</td>\n",
              "      <td>butterfly</td>\n",
              "      <td>natural</td>\n",
              "      <td>chiffonfabric</td>\n",
              "      <td>chiffon</td>\n",
              "      <td>bow</td>\n",
              "      <td>dot</td>\n",
              "      <td>0</td>\n",
              "    </tr>\n",
              "    <tr>\n",
              "      <th>...</th>\n",
              "      <td>...</td>\n",
              "      <td>...</td>\n",
              "      <td>...</td>\n",
              "      <td>...</td>\n",
              "      <td>...</td>\n",
              "      <td>...</td>\n",
              "      <td>...</td>\n",
              "      <td>...</td>\n",
              "      <td>...</td>\n",
              "      <td>...</td>\n",
              "      <td>...</td>\n",
              "      <td>...</td>\n",
              "      <td>...</td>\n",
              "    </tr>\n",
              "    <tr>\n",
              "      <th>495</th>\n",
              "      <td>Casual</td>\n",
              "      <td>Low</td>\n",
              "      <td>4.7</td>\n",
              "      <td>M</td>\n",
              "      <td>Spring</td>\n",
              "      <td>o-neck</td>\n",
              "      <td>full</td>\n",
              "      <td>natural</td>\n",
              "      <td>polyster</td>\n",
              "      <td>NaN</td>\n",
              "      <td>NaN</td>\n",
              "      <td>solid</td>\n",
              "      <td>1</td>\n",
              "    </tr>\n",
              "    <tr>\n",
              "      <th>496</th>\n",
              "      <td>Sexy</td>\n",
              "      <td>Low</td>\n",
              "      <td>4.3</td>\n",
              "      <td>free</td>\n",
              "      <td>Summer</td>\n",
              "      <td>o-neck</td>\n",
              "      <td>full</td>\n",
              "      <td>empire</td>\n",
              "      <td>cotton</td>\n",
              "      <td>NaN</td>\n",
              "      <td>NaN</td>\n",
              "      <td>NaN</td>\n",
              "      <td>0</td>\n",
              "    </tr>\n",
              "    <tr>\n",
              "      <th>497</th>\n",
              "      <td>Casual</td>\n",
              "      <td>Average</td>\n",
              "      <td>4.7</td>\n",
              "      <td>M</td>\n",
              "      <td>Summer</td>\n",
              "      <td>v-neck</td>\n",
              "      <td>full</td>\n",
              "      <td>empire</td>\n",
              "      <td>cotton</td>\n",
              "      <td>NaN</td>\n",
              "      <td>lace</td>\n",
              "      <td>solid</td>\n",
              "      <td>1</td>\n",
              "    </tr>\n",
              "    <tr>\n",
              "      <th>498</th>\n",
              "      <td>Casual</td>\n",
              "      <td>Average</td>\n",
              "      <td>4.6</td>\n",
              "      <td>L</td>\n",
              "      <td>winter</td>\n",
              "      <td>boat-neck</td>\n",
              "      <td>sleevless</td>\n",
              "      <td>empire</td>\n",
              "      <td>silk</td>\n",
              "      <td>broadcloth</td>\n",
              "      <td>applique</td>\n",
              "      <td>print</td>\n",
              "      <td>1</td>\n",
              "    </tr>\n",
              "    <tr>\n",
              "      <th>499</th>\n",
              "      <td>Casual</td>\n",
              "      <td>Low</td>\n",
              "      <td>4.4</td>\n",
              "      <td>free</td>\n",
              "      <td>Summer</td>\n",
              "      <td>v-neck</td>\n",
              "      <td>short</td>\n",
              "      <td>empire</td>\n",
              "      <td>cotton</td>\n",
              "      <td>Corduroy</td>\n",
              "      <td>lace</td>\n",
              "      <td>solid</td>\n",
              "      <td>0</td>\n",
              "    </tr>\n",
              "  </tbody>\n",
              "</table>\n",
              "<p>500 rows × 13 columns</p>\n",
              "</div>"
            ],
            "text/plain": [
              "       Style    Price  Rating  ...  Decoration Pattern Type Recommendation\n",
              "0       Sexy      Low     4.6  ...     ruffles       animal              1\n",
              "1     Casual      Low     0.0  ...     ruffles       animal              0\n",
              "2    vintage     High     0.0  ...         NaN        print              0\n",
              "3      Brief  Average     4.6  ...  embroidary        print              1\n",
              "4       cute      Low     4.5  ...         bow          dot              0\n",
              "..       ...      ...     ...  ...         ...          ...            ...\n",
              "495   Casual      Low     4.7  ...         NaN        solid              1\n",
              "496     Sexy      Low     4.3  ...         NaN          NaN              0\n",
              "497   Casual  Average     4.7  ...        lace        solid              1\n",
              "498   Casual  Average     4.6  ...    applique        print              1\n",
              "499   Casual      Low     4.4  ...        lace        solid              0\n",
              "\n",
              "[500 rows x 13 columns]"
            ]
          },
          "metadata": {
            "tags": []
          },
          "execution_count": 275
        }
      ]
    },
    {
      "cell_type": "code",
      "metadata": {
        "id": "dkahCirxQbvq",
        "colab": {
          "base_uri": "https://localhost:8080/",
          "height": 419
        },
        "outputId": "72b711d2-e45e-48c5-ab01-6d1c5eec3bd8"
      },
      "source": [
        "# Using row index, dropping a row if we find it irrelevant\n",
        "dressattribute = df_data.drop(1)\n",
        "dressattribute"
      ],
      "execution_count": null,
      "outputs": [
        {
          "output_type": "execute_result",
          "data": {
            "text/html": [
              "<div>\n",
              "<style scoped>\n",
              "    .dataframe tbody tr th:only-of-type {\n",
              "        vertical-align: middle;\n",
              "    }\n",
              "\n",
              "    .dataframe tbody tr th {\n",
              "        vertical-align: top;\n",
              "    }\n",
              "\n",
              "    .dataframe thead th {\n",
              "        text-align: right;\n",
              "    }\n",
              "</style>\n",
              "<table border=\"1\" class=\"dataframe\">\n",
              "  <thead>\n",
              "    <tr style=\"text-align: right;\">\n",
              "      <th></th>\n",
              "      <th>Style</th>\n",
              "      <th>Price</th>\n",
              "      <th>Rating</th>\n",
              "      <th>Size</th>\n",
              "      <th>Season</th>\n",
              "      <th>NeckLine</th>\n",
              "      <th>SleeveLength</th>\n",
              "      <th>waiseline</th>\n",
              "      <th>Material</th>\n",
              "      <th>FabricType</th>\n",
              "      <th>Decoration</th>\n",
              "      <th>Pattern Type</th>\n",
              "      <th>Recommendation</th>\n",
              "    </tr>\n",
              "  </thead>\n",
              "  <tbody>\n",
              "    <tr>\n",
              "      <th>0</th>\n",
              "      <td>Sexy</td>\n",
              "      <td>Low</td>\n",
              "      <td>4.6</td>\n",
              "      <td>M</td>\n",
              "      <td>Summer</td>\n",
              "      <td>o-neck</td>\n",
              "      <td>sleevless</td>\n",
              "      <td>empire</td>\n",
              "      <td>NaN</td>\n",
              "      <td>chiffon</td>\n",
              "      <td>ruffles</td>\n",
              "      <td>animal</td>\n",
              "      <td>1</td>\n",
              "    </tr>\n",
              "    <tr>\n",
              "      <th>2</th>\n",
              "      <td>vintage</td>\n",
              "      <td>High</td>\n",
              "      <td>0.0</td>\n",
              "      <td>L</td>\n",
              "      <td>Automn</td>\n",
              "      <td>o-neck</td>\n",
              "      <td>full</td>\n",
              "      <td>natural</td>\n",
              "      <td>polyster</td>\n",
              "      <td>NaN</td>\n",
              "      <td>NaN</td>\n",
              "      <td>print</td>\n",
              "      <td>0</td>\n",
              "    </tr>\n",
              "    <tr>\n",
              "      <th>3</th>\n",
              "      <td>Brief</td>\n",
              "      <td>Average</td>\n",
              "      <td>4.6</td>\n",
              "      <td>L</td>\n",
              "      <td>Spring</td>\n",
              "      <td>o-neck</td>\n",
              "      <td>full</td>\n",
              "      <td>natural</td>\n",
              "      <td>silk</td>\n",
              "      <td>chiffon</td>\n",
              "      <td>embroidary</td>\n",
              "      <td>print</td>\n",
              "      <td>1</td>\n",
              "    </tr>\n",
              "    <tr>\n",
              "      <th>4</th>\n",
              "      <td>cute</td>\n",
              "      <td>Low</td>\n",
              "      <td>4.5</td>\n",
              "      <td>M</td>\n",
              "      <td>Summer</td>\n",
              "      <td>o-neck</td>\n",
              "      <td>butterfly</td>\n",
              "      <td>natural</td>\n",
              "      <td>chiffonfabric</td>\n",
              "      <td>chiffon</td>\n",
              "      <td>bow</td>\n",
              "      <td>dot</td>\n",
              "      <td>0</td>\n",
              "    </tr>\n",
              "    <tr>\n",
              "      <th>5</th>\n",
              "      <td>bohemian</td>\n",
              "      <td>Low</td>\n",
              "      <td>0.0</td>\n",
              "      <td>M</td>\n",
              "      <td>Summer</td>\n",
              "      <td>v-neck</td>\n",
              "      <td>sleevless</td>\n",
              "      <td>empire</td>\n",
              "      <td>NaN</td>\n",
              "      <td>NaN</td>\n",
              "      <td>NaN</td>\n",
              "      <td>print</td>\n",
              "      <td>0</td>\n",
              "    </tr>\n",
              "    <tr>\n",
              "      <th>...</th>\n",
              "      <td>...</td>\n",
              "      <td>...</td>\n",
              "      <td>...</td>\n",
              "      <td>...</td>\n",
              "      <td>...</td>\n",
              "      <td>...</td>\n",
              "      <td>...</td>\n",
              "      <td>...</td>\n",
              "      <td>...</td>\n",
              "      <td>...</td>\n",
              "      <td>...</td>\n",
              "      <td>...</td>\n",
              "      <td>...</td>\n",
              "    </tr>\n",
              "    <tr>\n",
              "      <th>495</th>\n",
              "      <td>Casual</td>\n",
              "      <td>Low</td>\n",
              "      <td>4.7</td>\n",
              "      <td>M</td>\n",
              "      <td>Spring</td>\n",
              "      <td>o-neck</td>\n",
              "      <td>full</td>\n",
              "      <td>natural</td>\n",
              "      <td>polyster</td>\n",
              "      <td>NaN</td>\n",
              "      <td>NaN</td>\n",
              "      <td>solid</td>\n",
              "      <td>1</td>\n",
              "    </tr>\n",
              "    <tr>\n",
              "      <th>496</th>\n",
              "      <td>Sexy</td>\n",
              "      <td>Low</td>\n",
              "      <td>4.3</td>\n",
              "      <td>free</td>\n",
              "      <td>Summer</td>\n",
              "      <td>o-neck</td>\n",
              "      <td>full</td>\n",
              "      <td>empire</td>\n",
              "      <td>cotton</td>\n",
              "      <td>NaN</td>\n",
              "      <td>NaN</td>\n",
              "      <td>NaN</td>\n",
              "      <td>0</td>\n",
              "    </tr>\n",
              "    <tr>\n",
              "      <th>497</th>\n",
              "      <td>Casual</td>\n",
              "      <td>Average</td>\n",
              "      <td>4.7</td>\n",
              "      <td>M</td>\n",
              "      <td>Summer</td>\n",
              "      <td>v-neck</td>\n",
              "      <td>full</td>\n",
              "      <td>empire</td>\n",
              "      <td>cotton</td>\n",
              "      <td>NaN</td>\n",
              "      <td>lace</td>\n",
              "      <td>solid</td>\n",
              "      <td>1</td>\n",
              "    </tr>\n",
              "    <tr>\n",
              "      <th>498</th>\n",
              "      <td>Casual</td>\n",
              "      <td>Average</td>\n",
              "      <td>4.6</td>\n",
              "      <td>L</td>\n",
              "      <td>winter</td>\n",
              "      <td>boat-neck</td>\n",
              "      <td>sleevless</td>\n",
              "      <td>empire</td>\n",
              "      <td>silk</td>\n",
              "      <td>broadcloth</td>\n",
              "      <td>applique</td>\n",
              "      <td>print</td>\n",
              "      <td>1</td>\n",
              "    </tr>\n",
              "    <tr>\n",
              "      <th>499</th>\n",
              "      <td>Casual</td>\n",
              "      <td>Low</td>\n",
              "      <td>4.4</td>\n",
              "      <td>free</td>\n",
              "      <td>Summer</td>\n",
              "      <td>v-neck</td>\n",
              "      <td>short</td>\n",
              "      <td>empire</td>\n",
              "      <td>cotton</td>\n",
              "      <td>Corduroy</td>\n",
              "      <td>lace</td>\n",
              "      <td>solid</td>\n",
              "      <td>0</td>\n",
              "    </tr>\n",
              "  </tbody>\n",
              "</table>\n",
              "<p>499 rows × 13 columns</p>\n",
              "</div>"
            ],
            "text/plain": [
              "        Style    Price  Rating  ...  Decoration Pattern Type Recommendation\n",
              "0        Sexy      Low     4.6  ...     ruffles       animal              1\n",
              "2     vintage     High     0.0  ...         NaN        print              0\n",
              "3       Brief  Average     4.6  ...  embroidary        print              1\n",
              "4        cute      Low     4.5  ...         bow          dot              0\n",
              "5    bohemian      Low     0.0  ...         NaN        print              0\n",
              "..        ...      ...     ...  ...         ...          ...            ...\n",
              "495    Casual      Low     4.7  ...         NaN        solid              1\n",
              "496      Sexy      Low     4.3  ...         NaN          NaN              0\n",
              "497    Casual  Average     4.7  ...        lace        solid              1\n",
              "498    Casual  Average     4.6  ...    applique        print              1\n",
              "499    Casual      Low     4.4  ...        lace        solid              0\n",
              "\n",
              "[499 rows x 13 columns]"
            ]
          },
          "metadata": {
            "tags": []
          },
          "execution_count": 276
        }
      ]
    },
    {
      "cell_type": "markdown",
      "metadata": {
        "id": "6_iW9LnUSwPQ"
      },
      "source": [
        "##**Data Manipulations**"
      ]
    },
    {
      "cell_type": "code",
      "metadata": {
        "colab": {
          "base_uri": "https://localhost:8080/"
        },
        "id": "lJLdF7Pqp6Md",
        "outputId": "32b227bc-81b5-47c4-ba67-7dfd3b5a4ded"
      },
      "source": [
        "dressattribute.duplicated().sum()"
      ],
      "execution_count": null,
      "outputs": [
        {
          "output_type": "execute_result",
          "data": {
            "text/plain": [
              "0"
            ]
          },
          "metadata": {
            "tags": []
          },
          "execution_count": 277
        }
      ]
    },
    {
      "cell_type": "code",
      "metadata": {
        "id": "QMgeHU-vW-tg",
        "colab": {
          "base_uri": "https://localhost:8080/",
          "height": 419
        },
        "outputId": "2a150390-b19b-4b64-e3f1-86b606ddb326"
      },
      "source": [
        "dressattribute_df = dressattribute.drop_duplicates()\n",
        "dressattribute_df   #not required,cause there is no duplicates"
      ],
      "execution_count": null,
      "outputs": [
        {
          "output_type": "execute_result",
          "data": {
            "text/html": [
              "<div>\n",
              "<style scoped>\n",
              "    .dataframe tbody tr th:only-of-type {\n",
              "        vertical-align: middle;\n",
              "    }\n",
              "\n",
              "    .dataframe tbody tr th {\n",
              "        vertical-align: top;\n",
              "    }\n",
              "\n",
              "    .dataframe thead th {\n",
              "        text-align: right;\n",
              "    }\n",
              "</style>\n",
              "<table border=\"1\" class=\"dataframe\">\n",
              "  <thead>\n",
              "    <tr style=\"text-align: right;\">\n",
              "      <th></th>\n",
              "      <th>Style</th>\n",
              "      <th>Price</th>\n",
              "      <th>Rating</th>\n",
              "      <th>Size</th>\n",
              "      <th>Season</th>\n",
              "      <th>NeckLine</th>\n",
              "      <th>SleeveLength</th>\n",
              "      <th>waiseline</th>\n",
              "      <th>Material</th>\n",
              "      <th>FabricType</th>\n",
              "      <th>Decoration</th>\n",
              "      <th>Pattern Type</th>\n",
              "      <th>Recommendation</th>\n",
              "    </tr>\n",
              "  </thead>\n",
              "  <tbody>\n",
              "    <tr>\n",
              "      <th>0</th>\n",
              "      <td>Sexy</td>\n",
              "      <td>Low</td>\n",
              "      <td>4.6</td>\n",
              "      <td>M</td>\n",
              "      <td>Summer</td>\n",
              "      <td>o-neck</td>\n",
              "      <td>sleevless</td>\n",
              "      <td>empire</td>\n",
              "      <td>NaN</td>\n",
              "      <td>chiffon</td>\n",
              "      <td>ruffles</td>\n",
              "      <td>animal</td>\n",
              "      <td>1</td>\n",
              "    </tr>\n",
              "    <tr>\n",
              "      <th>2</th>\n",
              "      <td>vintage</td>\n",
              "      <td>High</td>\n",
              "      <td>0.0</td>\n",
              "      <td>L</td>\n",
              "      <td>Automn</td>\n",
              "      <td>o-neck</td>\n",
              "      <td>full</td>\n",
              "      <td>natural</td>\n",
              "      <td>polyster</td>\n",
              "      <td>NaN</td>\n",
              "      <td>NaN</td>\n",
              "      <td>print</td>\n",
              "      <td>0</td>\n",
              "    </tr>\n",
              "    <tr>\n",
              "      <th>3</th>\n",
              "      <td>Brief</td>\n",
              "      <td>Average</td>\n",
              "      <td>4.6</td>\n",
              "      <td>L</td>\n",
              "      <td>Spring</td>\n",
              "      <td>o-neck</td>\n",
              "      <td>full</td>\n",
              "      <td>natural</td>\n",
              "      <td>silk</td>\n",
              "      <td>chiffon</td>\n",
              "      <td>embroidary</td>\n",
              "      <td>print</td>\n",
              "      <td>1</td>\n",
              "    </tr>\n",
              "    <tr>\n",
              "      <th>4</th>\n",
              "      <td>cute</td>\n",
              "      <td>Low</td>\n",
              "      <td>4.5</td>\n",
              "      <td>M</td>\n",
              "      <td>Summer</td>\n",
              "      <td>o-neck</td>\n",
              "      <td>butterfly</td>\n",
              "      <td>natural</td>\n",
              "      <td>chiffonfabric</td>\n",
              "      <td>chiffon</td>\n",
              "      <td>bow</td>\n",
              "      <td>dot</td>\n",
              "      <td>0</td>\n",
              "    </tr>\n",
              "    <tr>\n",
              "      <th>5</th>\n",
              "      <td>bohemian</td>\n",
              "      <td>Low</td>\n",
              "      <td>0.0</td>\n",
              "      <td>M</td>\n",
              "      <td>Summer</td>\n",
              "      <td>v-neck</td>\n",
              "      <td>sleevless</td>\n",
              "      <td>empire</td>\n",
              "      <td>NaN</td>\n",
              "      <td>NaN</td>\n",
              "      <td>NaN</td>\n",
              "      <td>print</td>\n",
              "      <td>0</td>\n",
              "    </tr>\n",
              "    <tr>\n",
              "      <th>...</th>\n",
              "      <td>...</td>\n",
              "      <td>...</td>\n",
              "      <td>...</td>\n",
              "      <td>...</td>\n",
              "      <td>...</td>\n",
              "      <td>...</td>\n",
              "      <td>...</td>\n",
              "      <td>...</td>\n",
              "      <td>...</td>\n",
              "      <td>...</td>\n",
              "      <td>...</td>\n",
              "      <td>...</td>\n",
              "      <td>...</td>\n",
              "    </tr>\n",
              "    <tr>\n",
              "      <th>495</th>\n",
              "      <td>Casual</td>\n",
              "      <td>Low</td>\n",
              "      <td>4.7</td>\n",
              "      <td>M</td>\n",
              "      <td>Spring</td>\n",
              "      <td>o-neck</td>\n",
              "      <td>full</td>\n",
              "      <td>natural</td>\n",
              "      <td>polyster</td>\n",
              "      <td>NaN</td>\n",
              "      <td>NaN</td>\n",
              "      <td>solid</td>\n",
              "      <td>1</td>\n",
              "    </tr>\n",
              "    <tr>\n",
              "      <th>496</th>\n",
              "      <td>Sexy</td>\n",
              "      <td>Low</td>\n",
              "      <td>4.3</td>\n",
              "      <td>free</td>\n",
              "      <td>Summer</td>\n",
              "      <td>o-neck</td>\n",
              "      <td>full</td>\n",
              "      <td>empire</td>\n",
              "      <td>cotton</td>\n",
              "      <td>NaN</td>\n",
              "      <td>NaN</td>\n",
              "      <td>NaN</td>\n",
              "      <td>0</td>\n",
              "    </tr>\n",
              "    <tr>\n",
              "      <th>497</th>\n",
              "      <td>Casual</td>\n",
              "      <td>Average</td>\n",
              "      <td>4.7</td>\n",
              "      <td>M</td>\n",
              "      <td>Summer</td>\n",
              "      <td>v-neck</td>\n",
              "      <td>full</td>\n",
              "      <td>empire</td>\n",
              "      <td>cotton</td>\n",
              "      <td>NaN</td>\n",
              "      <td>lace</td>\n",
              "      <td>solid</td>\n",
              "      <td>1</td>\n",
              "    </tr>\n",
              "    <tr>\n",
              "      <th>498</th>\n",
              "      <td>Casual</td>\n",
              "      <td>Average</td>\n",
              "      <td>4.6</td>\n",
              "      <td>L</td>\n",
              "      <td>winter</td>\n",
              "      <td>boat-neck</td>\n",
              "      <td>sleevless</td>\n",
              "      <td>empire</td>\n",
              "      <td>silk</td>\n",
              "      <td>broadcloth</td>\n",
              "      <td>applique</td>\n",
              "      <td>print</td>\n",
              "      <td>1</td>\n",
              "    </tr>\n",
              "    <tr>\n",
              "      <th>499</th>\n",
              "      <td>Casual</td>\n",
              "      <td>Low</td>\n",
              "      <td>4.4</td>\n",
              "      <td>free</td>\n",
              "      <td>Summer</td>\n",
              "      <td>v-neck</td>\n",
              "      <td>short</td>\n",
              "      <td>empire</td>\n",
              "      <td>cotton</td>\n",
              "      <td>Corduroy</td>\n",
              "      <td>lace</td>\n",
              "      <td>solid</td>\n",
              "      <td>0</td>\n",
              "    </tr>\n",
              "  </tbody>\n",
              "</table>\n",
              "<p>499 rows × 13 columns</p>\n",
              "</div>"
            ],
            "text/plain": [
              "        Style    Price  Rating  ...  Decoration Pattern Type Recommendation\n",
              "0        Sexy      Low     4.6  ...     ruffles       animal              1\n",
              "2     vintage     High     0.0  ...         NaN        print              0\n",
              "3       Brief  Average     4.6  ...  embroidary        print              1\n",
              "4        cute      Low     4.5  ...         bow          dot              0\n",
              "5    bohemian      Low     0.0  ...         NaN        print              0\n",
              "..        ...      ...     ...  ...         ...          ...            ...\n",
              "495    Casual      Low     4.7  ...         NaN        solid              1\n",
              "496      Sexy      Low     4.3  ...         NaN          NaN              0\n",
              "497    Casual  Average     4.7  ...        lace        solid              1\n",
              "498    Casual  Average     4.6  ...    applique        print              1\n",
              "499    Casual      Low     4.4  ...        lace        solid              0\n",
              "\n",
              "[499 rows x 13 columns]"
            ]
          },
          "metadata": {
            "tags": []
          },
          "execution_count": 278
        }
      ]
    },
    {
      "cell_type": "code",
      "metadata": {
        "id": "O4eVlrb3Th6A",
        "colab": {
          "base_uri": "https://localhost:8080/"
        },
        "outputId": "2e7b74ce-e63a-43a6-f215-1893c2ff34a7"
      },
      "source": [
        " # Check for null and zero values in columns and correct them if required\n",
        "dressattribute.isnull().sum()"
      ],
      "execution_count": null,
      "outputs": [
        {
          "output_type": "execute_result",
          "data": {
            "text/plain": [
              "Style               0\n",
              "Price               2\n",
              "Rating              0\n",
              "Size                0\n",
              "Season              2\n",
              "NeckLine            3\n",
              "SleeveLength        2\n",
              "waiseline          87\n",
              "Material          128\n",
              "FabricType        265\n",
              "Decoration        236\n",
              "Pattern Type      109\n",
              "Recommendation      0\n",
              "dtype: int64"
            ]
          },
          "metadata": {
            "tags": []
          },
          "execution_count": 279
        }
      ]
    },
    {
      "cell_type": "code",
      "metadata": {
        "id": "dlD5lNWGtcs4"
      },
      "source": [
        "dressattribute['Decoration'].fillna('0',inplace=True)"
      ],
      "execution_count": null,
      "outputs": []
    },
    {
      "cell_type": "code",
      "metadata": {
        "colab": {
          "base_uri": "https://localhost:8080/"
        },
        "id": "HEUkI6hOrhAd",
        "outputId": "9ddefefb-9529-455e-b04f-dc3829cd5d2f"
      },
      "source": [
        "dressattribute.isnull().sum()"
      ],
      "execution_count": null,
      "outputs": [
        {
          "output_type": "execute_result",
          "data": {
            "text/plain": [
              "Style               0\n",
              "Price               2\n",
              "Rating              0\n",
              "Size                0\n",
              "Season              2\n",
              "NeckLine            3\n",
              "SleeveLength        2\n",
              "waiseline          87\n",
              "Material          128\n",
              "FabricType        265\n",
              "Decoration          0\n",
              "Pattern Type      109\n",
              "Recommendation      0\n",
              "dtype: int64"
            ]
          },
          "metadata": {
            "tags": []
          },
          "execution_count": 281
        }
      ]
    },
    {
      "cell_type": "code",
      "metadata": {
        "id": "aT5l3PrJ4-2N",
        "colab": {
          "base_uri": "https://localhost:8080/",
          "height": 419
        },
        "outputId": "b70310da-c76d-40e7-e67a-cc40b9dc6649"
      },
      "source": [
        "dressattribute_df=dressattribute.drop(['Material','FabricType'],axis=1)\n",
        "dressattribute_df"
      ],
      "execution_count": null,
      "outputs": [
        {
          "output_type": "execute_result",
          "data": {
            "text/html": [
              "<div>\n",
              "<style scoped>\n",
              "    .dataframe tbody tr th:only-of-type {\n",
              "        vertical-align: middle;\n",
              "    }\n",
              "\n",
              "    .dataframe tbody tr th {\n",
              "        vertical-align: top;\n",
              "    }\n",
              "\n",
              "    .dataframe thead th {\n",
              "        text-align: right;\n",
              "    }\n",
              "</style>\n",
              "<table border=\"1\" class=\"dataframe\">\n",
              "  <thead>\n",
              "    <tr style=\"text-align: right;\">\n",
              "      <th></th>\n",
              "      <th>Style</th>\n",
              "      <th>Price</th>\n",
              "      <th>Rating</th>\n",
              "      <th>Size</th>\n",
              "      <th>Season</th>\n",
              "      <th>NeckLine</th>\n",
              "      <th>SleeveLength</th>\n",
              "      <th>waiseline</th>\n",
              "      <th>Decoration</th>\n",
              "      <th>Pattern Type</th>\n",
              "      <th>Recommendation</th>\n",
              "    </tr>\n",
              "  </thead>\n",
              "  <tbody>\n",
              "    <tr>\n",
              "      <th>0</th>\n",
              "      <td>Sexy</td>\n",
              "      <td>Low</td>\n",
              "      <td>4.6</td>\n",
              "      <td>M</td>\n",
              "      <td>Summer</td>\n",
              "      <td>o-neck</td>\n",
              "      <td>sleevless</td>\n",
              "      <td>empire</td>\n",
              "      <td>ruffles</td>\n",
              "      <td>animal</td>\n",
              "      <td>1</td>\n",
              "    </tr>\n",
              "    <tr>\n",
              "      <th>2</th>\n",
              "      <td>vintage</td>\n",
              "      <td>High</td>\n",
              "      <td>0.0</td>\n",
              "      <td>L</td>\n",
              "      <td>Automn</td>\n",
              "      <td>o-neck</td>\n",
              "      <td>full</td>\n",
              "      <td>natural</td>\n",
              "      <td>0</td>\n",
              "      <td>print</td>\n",
              "      <td>0</td>\n",
              "    </tr>\n",
              "    <tr>\n",
              "      <th>3</th>\n",
              "      <td>Brief</td>\n",
              "      <td>Average</td>\n",
              "      <td>4.6</td>\n",
              "      <td>L</td>\n",
              "      <td>Spring</td>\n",
              "      <td>o-neck</td>\n",
              "      <td>full</td>\n",
              "      <td>natural</td>\n",
              "      <td>embroidary</td>\n",
              "      <td>print</td>\n",
              "      <td>1</td>\n",
              "    </tr>\n",
              "    <tr>\n",
              "      <th>4</th>\n",
              "      <td>cute</td>\n",
              "      <td>Low</td>\n",
              "      <td>4.5</td>\n",
              "      <td>M</td>\n",
              "      <td>Summer</td>\n",
              "      <td>o-neck</td>\n",
              "      <td>butterfly</td>\n",
              "      <td>natural</td>\n",
              "      <td>bow</td>\n",
              "      <td>dot</td>\n",
              "      <td>0</td>\n",
              "    </tr>\n",
              "    <tr>\n",
              "      <th>5</th>\n",
              "      <td>bohemian</td>\n",
              "      <td>Low</td>\n",
              "      <td>0.0</td>\n",
              "      <td>M</td>\n",
              "      <td>Summer</td>\n",
              "      <td>v-neck</td>\n",
              "      <td>sleevless</td>\n",
              "      <td>empire</td>\n",
              "      <td>0</td>\n",
              "      <td>print</td>\n",
              "      <td>0</td>\n",
              "    </tr>\n",
              "    <tr>\n",
              "      <th>...</th>\n",
              "      <td>...</td>\n",
              "      <td>...</td>\n",
              "      <td>...</td>\n",
              "      <td>...</td>\n",
              "      <td>...</td>\n",
              "      <td>...</td>\n",
              "      <td>...</td>\n",
              "      <td>...</td>\n",
              "      <td>...</td>\n",
              "      <td>...</td>\n",
              "      <td>...</td>\n",
              "    </tr>\n",
              "    <tr>\n",
              "      <th>495</th>\n",
              "      <td>Casual</td>\n",
              "      <td>Low</td>\n",
              "      <td>4.7</td>\n",
              "      <td>M</td>\n",
              "      <td>Spring</td>\n",
              "      <td>o-neck</td>\n",
              "      <td>full</td>\n",
              "      <td>natural</td>\n",
              "      <td>0</td>\n",
              "      <td>solid</td>\n",
              "      <td>1</td>\n",
              "    </tr>\n",
              "    <tr>\n",
              "      <th>496</th>\n",
              "      <td>Sexy</td>\n",
              "      <td>Low</td>\n",
              "      <td>4.3</td>\n",
              "      <td>free</td>\n",
              "      <td>Summer</td>\n",
              "      <td>o-neck</td>\n",
              "      <td>full</td>\n",
              "      <td>empire</td>\n",
              "      <td>0</td>\n",
              "      <td>NaN</td>\n",
              "      <td>0</td>\n",
              "    </tr>\n",
              "    <tr>\n",
              "      <th>497</th>\n",
              "      <td>Casual</td>\n",
              "      <td>Average</td>\n",
              "      <td>4.7</td>\n",
              "      <td>M</td>\n",
              "      <td>Summer</td>\n",
              "      <td>v-neck</td>\n",
              "      <td>full</td>\n",
              "      <td>empire</td>\n",
              "      <td>lace</td>\n",
              "      <td>solid</td>\n",
              "      <td>1</td>\n",
              "    </tr>\n",
              "    <tr>\n",
              "      <th>498</th>\n",
              "      <td>Casual</td>\n",
              "      <td>Average</td>\n",
              "      <td>4.6</td>\n",
              "      <td>L</td>\n",
              "      <td>winter</td>\n",
              "      <td>boat-neck</td>\n",
              "      <td>sleevless</td>\n",
              "      <td>empire</td>\n",
              "      <td>applique</td>\n",
              "      <td>print</td>\n",
              "      <td>1</td>\n",
              "    </tr>\n",
              "    <tr>\n",
              "      <th>499</th>\n",
              "      <td>Casual</td>\n",
              "      <td>Low</td>\n",
              "      <td>4.4</td>\n",
              "      <td>free</td>\n",
              "      <td>Summer</td>\n",
              "      <td>v-neck</td>\n",
              "      <td>short</td>\n",
              "      <td>empire</td>\n",
              "      <td>lace</td>\n",
              "      <td>solid</td>\n",
              "      <td>0</td>\n",
              "    </tr>\n",
              "  </tbody>\n",
              "</table>\n",
              "<p>499 rows × 11 columns</p>\n",
              "</div>"
            ],
            "text/plain": [
              "        Style    Price  Rating  ...  Decoration Pattern Type Recommendation\n",
              "0        Sexy      Low     4.6  ...     ruffles       animal              1\n",
              "2     vintage     High     0.0  ...           0        print              0\n",
              "3       Brief  Average     4.6  ...  embroidary        print              1\n",
              "4        cute      Low     4.5  ...         bow          dot              0\n",
              "5    bohemian      Low     0.0  ...           0        print              0\n",
              "..        ...      ...     ...  ...         ...          ...            ...\n",
              "495    Casual      Low     4.7  ...           0        solid              1\n",
              "496      Sexy      Low     4.3  ...           0          NaN              0\n",
              "497    Casual  Average     4.7  ...        lace        solid              1\n",
              "498    Casual  Average     4.6  ...    applique        print              1\n",
              "499    Casual      Low     4.4  ...        lace        solid              0\n",
              "\n",
              "[499 rows x 11 columns]"
            ]
          },
          "metadata": {
            "tags": []
          },
          "execution_count": 282
        }
      ]
    },
    {
      "cell_type": "code",
      "metadata": {
        "id": "FCKrvJ2B9zBd",
        "colab": {
          "base_uri": "https://localhost:8080/"
        },
        "outputId": "f91050ad-7101-4b9e-e4ce-1931233ff83a"
      },
      "source": [
        "dressattribute_df.Rating[(df_data.Size == 'M') & (df_data.Rating == 4.6)].count()"
      ],
      "execution_count": null,
      "outputs": [
        {
          "output_type": "execute_result",
          "data": {
            "text/plain": [
              "21"
            ]
          },
          "metadata": {
            "tags": []
          },
          "execution_count": 283
        }
      ]
    },
    {
      "cell_type": "code",
      "metadata": {
        "id": "duyu79CJErue",
        "colab": {
          "base_uri": "https://localhost:8080/"
        },
        "outputId": "0947e0c5-c2b0-4712-d482-5b671330b462"
      },
      "source": [
        "dressattribute_df['Size'].unique()"
      ],
      "execution_count": null,
      "outputs": [
        {
          "output_type": "execute_result",
          "data": {
            "text/plain": [
              "array(['M', 'L', 'XL', 'free', 'S', 'small', 's'], dtype=object)"
            ]
          },
          "metadata": {
            "tags": []
          },
          "execution_count": 284
        }
      ]
    },
    {
      "cell_type": "code",
      "metadata": {
        "id": "3DKsZHAFEryA",
        "colab": {
          "base_uri": "https://localhost:8080/"
        },
        "outputId": "274588bc-619f-49f8-8305-18ad1dd72fe8"
      },
      "source": [
        "dressattribute_df['Rating'].unique()"
      ],
      "execution_count": null,
      "outputs": [
        {
          "output_type": "execute_result",
          "data": {
            "text/plain": [
              "array([4.6, 0. , 4.5, 5. , 4.7, 4.8, 4.3, 4. , 4.4, 4.9, 4.2, 3.6, 3.7,\n",
              "       4.1, 3.5, 1. , 3. ])"
            ]
          },
          "metadata": {
            "tags": []
          },
          "execution_count": 285
        }
      ]
    },
    {
      "cell_type": "code",
      "metadata": {
        "id": "77fWJ_zWEr0O",
        "colab": {
          "base_uri": "https://localhost:8080/"
        },
        "outputId": "a310200a-e1c1-41e3-e182-93c3ede8e67b"
      },
      "source": [
        "dressattribute_df['Recommendation'].unique()"
      ],
      "execution_count": null,
      "outputs": [
        {
          "output_type": "execute_result",
          "data": {
            "text/plain": [
              "array([1, 0])"
            ]
          },
          "metadata": {
            "tags": []
          },
          "execution_count": 286
        }
      ]
    },
    {
      "cell_type": "code",
      "metadata": {
        "id": "Z8nh6Z-GFNq9",
        "colab": {
          "base_uri": "https://localhost:8080/"
        },
        "outputId": "69429357-22e5-44b0-9c17-effefb35a17b"
      },
      "source": [
        "dressattribute_df['Recommendation'].value_counts()"
      ],
      "execution_count": null,
      "outputs": [
        {
          "output_type": "execute_result",
          "data": {
            "text/plain": [
              "0    289\n",
              "1    210\n",
              "Name: Recommendation, dtype: int64"
            ]
          },
          "metadata": {
            "tags": []
          },
          "execution_count": 287
        }
      ]
    },
    {
      "cell_type": "code",
      "metadata": {
        "id": "S3px5fHrFNtY",
        "colab": {
          "base_uri": "https://localhost:8080/"
        },
        "outputId": "2bc46f64-2285-426e-f285-83d538dc3ef8"
      },
      "source": [
        "dressattribute_df.isna().sum().sort_values(ascending=True)"
      ],
      "execution_count": null,
      "outputs": [
        {
          "output_type": "execute_result",
          "data": {
            "text/plain": [
              "Style               0\n",
              "Rating              0\n",
              "Size                0\n",
              "Decoration          0\n",
              "Recommendation      0\n",
              "Price               2\n",
              "Season              2\n",
              "SleeveLength        2\n",
              "NeckLine            3\n",
              "waiseline          87\n",
              "Pattern Type      109\n",
              "dtype: int64"
            ]
          },
          "metadata": {
            "tags": []
          },
          "execution_count": 288
        }
      ]
    },
    {
      "cell_type": "code",
      "metadata": {
        "id": "3YhWzaUVFNwV"
      },
      "source": [
        "dressattribute_df['Recommendation'].fillna('0',inplace=True)"
      ],
      "execution_count": null,
      "outputs": []
    },
    {
      "cell_type": "code",
      "metadata": {
        "id": "W3lFlFdzFuEQ",
        "colab": {
          "base_uri": "https://localhost:8080/"
        },
        "outputId": "bf4d01e5-9025-4010-b4ed-7712dffa169c"
      },
      "source": [
        "dressattribute_df.isna().sum().sort_values(ascending=False)"
      ],
      "execution_count": null,
      "outputs": [
        {
          "output_type": "execute_result",
          "data": {
            "text/plain": [
              "Pattern Type      109\n",
              "waiseline          87\n",
              "NeckLine            3\n",
              "SleeveLength        2\n",
              "Season              2\n",
              "Price               2\n",
              "Recommendation      0\n",
              "Decoration          0\n",
              "Size                0\n",
              "Rating              0\n",
              "Style               0\n",
              "dtype: int64"
            ]
          },
          "metadata": {
            "tags": []
          },
          "execution_count": 290
        }
      ]
    },
    {
      "cell_type": "code",
      "metadata": {
        "id": "vO2CAjK2hx4r"
      },
      "source": [
        "dressattribute_df=dressattribute_df.dropna()"
      ],
      "execution_count": null,
      "outputs": []
    },
    {
      "cell_type": "markdown",
      "metadata": {
        "id": "Vmf8jkaqFwzk"
      },
      "source": [
        "## **Feature Engineering and Data Cleaning**"
      ]
    },
    {
      "cell_type": "code",
      "metadata": {
        "id": "Gew8ZABkFzov",
        "colab": {
          "base_uri": "https://localhost:8080/",
          "height": 111
        },
        "outputId": "af0c1335-54e3-42a1-ac80-a90c892cee95"
      },
      "source": [
        "dressattribute_df.corr()"
      ],
      "execution_count": null,
      "outputs": [
        {
          "output_type": "execute_result",
          "data": {
            "text/html": [
              "<div>\n",
              "<style scoped>\n",
              "    .dataframe tbody tr th:only-of-type {\n",
              "        vertical-align: middle;\n",
              "    }\n",
              "\n",
              "    .dataframe tbody tr th {\n",
              "        vertical-align: top;\n",
              "    }\n",
              "\n",
              "    .dataframe thead th {\n",
              "        text-align: right;\n",
              "    }\n",
              "</style>\n",
              "<table border=\"1\" class=\"dataframe\">\n",
              "  <thead>\n",
              "    <tr style=\"text-align: right;\">\n",
              "      <th></th>\n",
              "      <th>Rating</th>\n",
              "      <th>Recommendation</th>\n",
              "    </tr>\n",
              "  </thead>\n",
              "  <tbody>\n",
              "    <tr>\n",
              "      <th>Rating</th>\n",
              "      <td>1.000000</td>\n",
              "      <td>0.026285</td>\n",
              "    </tr>\n",
              "    <tr>\n",
              "      <th>Recommendation</th>\n",
              "      <td>0.026285</td>\n",
              "      <td>1.000000</td>\n",
              "    </tr>\n",
              "  </tbody>\n",
              "</table>\n",
              "</div>"
            ],
            "text/plain": [
              "                  Rating  Recommendation\n",
              "Rating          1.000000        0.026285\n",
              "Recommendation  0.026285        1.000000"
            ]
          },
          "metadata": {
            "tags": []
          },
          "execution_count": 292
        }
      ]
    },
    {
      "cell_type": "code",
      "metadata": {
        "id": "iFkbHcAzF-uw",
        "colab": {
          "base_uri": "https://localhost:8080/",
          "height": 298
        },
        "outputId": "c4f83c25-07cf-4b5b-f62b-7bcbc334b14e"
      },
      "source": [
        "import seaborn as sns\n",
        "corr= dressattribute_df.corr()\n",
        "sns.heatmap(corr,annot=True)"
      ],
      "execution_count": null,
      "outputs": [
        {
          "output_type": "execute_result",
          "data": {
            "text/plain": [
              "<matplotlib.axes._subplots.AxesSubplot at 0x7f9b58c1ff90>"
            ]
          },
          "metadata": {
            "tags": []
          },
          "execution_count": 293
        },
        {
          "output_type": "display_data",
          "data": {
            "image/png": "[encoded data removed]",
            "text/plain": [
              "<Figure size 432x288 with 2 Axes>"
            ]
          },
          "metadata": {
            "tags": [],
            "needs_background": "light"
          }
        }
      ]
    },
    {
      "cell_type": "code",
      "metadata": {
        "colab": {
          "base_uri": "https://localhost:8080/",
          "height": 419
        },
        "id": "zslxsbCgtR4J",
        "outputId": "cb07356b-5f68-44d0-8ab0-68cb2b1ee2c1"
      },
      "source": [
        "dressattribute_df"
      ],
      "execution_count": null,
      "outputs": [
        {
          "output_type": "execute_result",
          "data": {
            "text/html": [
              "<div>\n",
              "<style scoped>\n",
              "    .dataframe tbody tr th:only-of-type {\n",
              "        vertical-align: middle;\n",
              "    }\n",
              "\n",
              "    .dataframe tbody tr th {\n",
              "        vertical-align: top;\n",
              "    }\n",
              "\n",
              "    .dataframe thead th {\n",
              "        text-align: right;\n",
              "    }\n",
              "</style>\n",
              "<table border=\"1\" class=\"dataframe\">\n",
              "  <thead>\n",
              "    <tr style=\"text-align: right;\">\n",
              "      <th></th>\n",
              "      <th>Style</th>\n",
              "      <th>Price</th>\n",
              "      <th>Rating</th>\n",
              "      <th>Size</th>\n",
              "      <th>Season</th>\n",
              "      <th>NeckLine</th>\n",
              "      <th>SleeveLength</th>\n",
              "      <th>waiseline</th>\n",
              "      <th>Decoration</th>\n",
              "      <th>Pattern Type</th>\n",
              "      <th>Recommendation</th>\n",
              "    </tr>\n",
              "  </thead>\n",
              "  <tbody>\n",
              "    <tr>\n",
              "      <th>0</th>\n",
              "      <td>Sexy</td>\n",
              "      <td>Low</td>\n",
              "      <td>4.6</td>\n",
              "      <td>M</td>\n",
              "      <td>Summer</td>\n",
              "      <td>o-neck</td>\n",
              "      <td>sleevless</td>\n",
              "      <td>empire</td>\n",
              "      <td>ruffles</td>\n",
              "      <td>animal</td>\n",
              "      <td>1</td>\n",
              "    </tr>\n",
              "    <tr>\n",
              "      <th>2</th>\n",
              "      <td>vintage</td>\n",
              "      <td>High</td>\n",
              "      <td>0.0</td>\n",
              "      <td>L</td>\n",
              "      <td>Automn</td>\n",
              "      <td>o-neck</td>\n",
              "      <td>full</td>\n",
              "      <td>natural</td>\n",
              "      <td>0</td>\n",
              "      <td>print</td>\n",
              "      <td>0</td>\n",
              "    </tr>\n",
              "    <tr>\n",
              "      <th>3</th>\n",
              "      <td>Brief</td>\n",
              "      <td>Average</td>\n",
              "      <td>4.6</td>\n",
              "      <td>L</td>\n",
              "      <td>Spring</td>\n",
              "      <td>o-neck</td>\n",
              "      <td>full</td>\n",
              "      <td>natural</td>\n",
              "      <td>embroidary</td>\n",
              "      <td>print</td>\n",
              "      <td>1</td>\n",
              "    </tr>\n",
              "    <tr>\n",
              "      <th>4</th>\n",
              "      <td>cute</td>\n",
              "      <td>Low</td>\n",
              "      <td>4.5</td>\n",
              "      <td>M</td>\n",
              "      <td>Summer</td>\n",
              "      <td>o-neck</td>\n",
              "      <td>butterfly</td>\n",
              "      <td>natural</td>\n",
              "      <td>bow</td>\n",
              "      <td>dot</td>\n",
              "      <td>0</td>\n",
              "    </tr>\n",
              "    <tr>\n",
              "      <th>5</th>\n",
              "      <td>bohemian</td>\n",
              "      <td>Low</td>\n",
              "      <td>0.0</td>\n",
              "      <td>M</td>\n",
              "      <td>Summer</td>\n",
              "      <td>v-neck</td>\n",
              "      <td>sleevless</td>\n",
              "      <td>empire</td>\n",
              "      <td>0</td>\n",
              "      <td>print</td>\n",
              "      <td>0</td>\n",
              "    </tr>\n",
              "    <tr>\n",
              "      <th>...</th>\n",
              "      <td>...</td>\n",
              "      <td>...</td>\n",
              "      <td>...</td>\n",
              "      <td>...</td>\n",
              "      <td>...</td>\n",
              "      <td>...</td>\n",
              "      <td>...</td>\n",
              "      <td>...</td>\n",
              "      <td>...</td>\n",
              "      <td>...</td>\n",
              "      <td>...</td>\n",
              "    </tr>\n",
              "    <tr>\n",
              "      <th>494</th>\n",
              "      <td>Brief</td>\n",
              "      <td>Average</td>\n",
              "      <td>4.7</td>\n",
              "      <td>M</td>\n",
              "      <td>winter</td>\n",
              "      <td>o-neck</td>\n",
              "      <td>halfsleeve</td>\n",
              "      <td>natural</td>\n",
              "      <td>0</td>\n",
              "      <td>striped</td>\n",
              "      <td>0</td>\n",
              "    </tr>\n",
              "    <tr>\n",
              "      <th>495</th>\n",
              "      <td>Casual</td>\n",
              "      <td>Low</td>\n",
              "      <td>4.7</td>\n",
              "      <td>M</td>\n",
              "      <td>Spring</td>\n",
              "      <td>o-neck</td>\n",
              "      <td>full</td>\n",
              "      <td>natural</td>\n",
              "      <td>0</td>\n",
              "      <td>solid</td>\n",
              "      <td>1</td>\n",
              "    </tr>\n",
              "    <tr>\n",
              "      <th>497</th>\n",
              "      <td>Casual</td>\n",
              "      <td>Average</td>\n",
              "      <td>4.7</td>\n",
              "      <td>M</td>\n",
              "      <td>Summer</td>\n",
              "      <td>v-neck</td>\n",
              "      <td>full</td>\n",
              "      <td>empire</td>\n",
              "      <td>lace</td>\n",
              "      <td>solid</td>\n",
              "      <td>1</td>\n",
              "    </tr>\n",
              "    <tr>\n",
              "      <th>498</th>\n",
              "      <td>Casual</td>\n",
              "      <td>Average</td>\n",
              "      <td>4.6</td>\n",
              "      <td>L</td>\n",
              "      <td>winter</td>\n",
              "      <td>boat-neck</td>\n",
              "      <td>sleevless</td>\n",
              "      <td>empire</td>\n",
              "      <td>applique</td>\n",
              "      <td>print</td>\n",
              "      <td>1</td>\n",
              "    </tr>\n",
              "    <tr>\n",
              "      <th>499</th>\n",
              "      <td>Casual</td>\n",
              "      <td>Low</td>\n",
              "      <td>4.4</td>\n",
              "      <td>free</td>\n",
              "      <td>Summer</td>\n",
              "      <td>v-neck</td>\n",
              "      <td>short</td>\n",
              "      <td>empire</td>\n",
              "      <td>lace</td>\n",
              "      <td>solid</td>\n",
              "      <td>0</td>\n",
              "    </tr>\n",
              "  </tbody>\n",
              "</table>\n",
              "<p>341 rows × 11 columns</p>\n",
              "</div>"
            ],
            "text/plain": [
              "        Style    Price  Rating  ...  Decoration Pattern Type Recommendation\n",
              "0        Sexy      Low     4.6  ...     ruffles       animal              1\n",
              "2     vintage     High     0.0  ...           0        print              0\n",
              "3       Brief  Average     4.6  ...  embroidary        print              1\n",
              "4        cute      Low     4.5  ...         bow          dot              0\n",
              "5    bohemian      Low     0.0  ...           0        print              0\n",
              "..        ...      ...     ...  ...         ...          ...            ...\n",
              "494     Brief  Average     4.7  ...           0      striped              0\n",
              "495    Casual      Low     4.7  ...           0        solid              1\n",
              "497    Casual  Average     4.7  ...        lace        solid              1\n",
              "498    Casual  Average     4.6  ...    applique        print              1\n",
              "499    Casual      Low     4.4  ...        lace        solid              0\n",
              "\n",
              "[341 rows x 11 columns]"
            ]
          },
          "metadata": {
            "tags": []
          },
          "execution_count": 294
        }
      ]
    },
    {
      "cell_type": "code",
      "metadata": {
        "colab": {
          "base_uri": "https://localhost:8080/"
        },
        "id": "gWpJ2z72tcLL",
        "outputId": "96c27c96-1493-4218-b2fd-a4a923a43dd4"
      },
      "source": [
        "dressattribute_df['Recommendation'].value_counts()"
      ],
      "execution_count": null,
      "outputs": [
        {
          "output_type": "execute_result",
          "data": {
            "text/plain": [
              "0    214\n",
              "1    127\n",
              "Name: Recommendation, dtype: int64"
            ]
          },
          "metadata": {
            "tags": []
          },
          "execution_count": 295
        }
      ]
    },
    {
      "cell_type": "code",
      "metadata": {
        "colab": {
          "base_uri": "https://localhost:8080/",
          "height": 739
        },
        "id": "ieIiX7LEur6i",
        "outputId": "0638961f-181a-4e51-e242-9a6127e9ce8e"
      },
      "source": [
        "dressattribute_df['Score']=1\n",
        "dressattribute_df.loc[dressattribute_df['Rating']==0,'Score']=0\n",
        "dressattribute_df.loc[dressattribute_df['Rating']==1,'Score']=1\n",
        "dressattribute_df"
      ],
      "execution_count": null,
      "outputs": [
        {
          "output_type": "stream",
          "text": [
            "/usr/local/lib/python3.7/dist-packages/ipykernel_launcher.py:1: SettingWithCopyWarning: \n",
            "A value is trying to be set on a copy of a slice from a DataFrame.\n",
            "Try using .loc[row_indexer,col_indexer] = value instead\n",
            "\n",
            "See the caveats in the documentation: https://pandas.pydata.org/pandas-docs/stable/user_guide/indexing.html#returning-a-view-versus-a-copy\n",
            "  \"\"\"Entry point for launching an IPython kernel.\n",
            "/usr/local/lib/python3.7/dist-packages/pandas/core/indexing.py:1763: SettingWithCopyWarning: \n",
            "A value is trying to be set on a copy of a slice from a DataFrame.\n",
            "Try using .loc[row_indexer,col_indexer] = value instead\n",
            "\n",
            "See the caveats in the documentation: https://pandas.pydata.org/pandas-docs/stable/user_guide/indexing.html#returning-a-view-versus-a-copy\n",
            "  isetter(loc, value)\n",
            "/usr/local/lib/python3.7/dist-packages/pandas/core/indexing.py:1763: SettingWithCopyWarning: \n",
            "A value is trying to be set on a copy of a slice from a DataFrame.\n",
            "Try using .loc[row_indexer,col_indexer] = value instead\n",
            "\n",
            "See the caveats in the documentation: https://pandas.pydata.org/pandas-docs/stable/user_guide/indexing.html#returning-a-view-versus-a-copy\n",
            "  isetter(loc, value)\n"
          ],
          "name": "stderr"
        },
        {
          "output_type": "execute_result",
          "data": {
            "text/html": [
              "<div>\n",
              "<style scoped>\n",
              "    .dataframe tbody tr th:only-of-type {\n",
              "        vertical-align: middle;\n",
              "    }\n",
              "\n",
              "    .dataframe tbody tr th {\n",
              "        vertical-align: top;\n",
              "    }\n",
              "\n",
              "    .dataframe thead th {\n",
              "        text-align: right;\n",
              "    }\n",
              "</style>\n",
              "<table border=\"1\" class=\"dataframe\">\n",
              "  <thead>\n",
              "    <tr style=\"text-align: right;\">\n",
              "      <th></th>\n",
              "      <th>Style</th>\n",
              "      <th>Price</th>\n",
              "      <th>Rating</th>\n",
              "      <th>Size</th>\n",
              "      <th>Season</th>\n",
              "      <th>NeckLine</th>\n",
              "      <th>SleeveLength</th>\n",
              "      <th>waiseline</th>\n",
              "      <th>Decoration</th>\n",
              "      <th>Pattern Type</th>\n",
              "      <th>Recommendation</th>\n",
              "      <th>Score</th>\n",
              "    </tr>\n",
              "  </thead>\n",
              "  <tbody>\n",
              "    <tr>\n",
              "      <th>0</th>\n",
              "      <td>Sexy</td>\n",
              "      <td>Low</td>\n",
              "      <td>4.6</td>\n",
              "      <td>M</td>\n",
              "      <td>Summer</td>\n",
              "      <td>o-neck</td>\n",
              "      <td>sleevless</td>\n",
              "      <td>empire</td>\n",
              "      <td>ruffles</td>\n",
              "      <td>animal</td>\n",
              "      <td>1</td>\n",
              "      <td>1</td>\n",
              "    </tr>\n",
              "    <tr>\n",
              "      <th>2</th>\n",
              "      <td>vintage</td>\n",
              "      <td>High</td>\n",
              "      <td>0.0</td>\n",
              "      <td>L</td>\n",
              "      <td>Automn</td>\n",
              "      <td>o-neck</td>\n",
              "      <td>full</td>\n",
              "      <td>natural</td>\n",
              "      <td>0</td>\n",
              "      <td>print</td>\n",
              "      <td>0</td>\n",
              "      <td>0</td>\n",
              "    </tr>\n",
              "    <tr>\n",
              "      <th>3</th>\n",
              "      <td>Brief</td>\n",
              "      <td>Average</td>\n",
              "      <td>4.6</td>\n",
              "      <td>L</td>\n",
              "      <td>Spring</td>\n",
              "      <td>o-neck</td>\n",
              "      <td>full</td>\n",
              "      <td>natural</td>\n",
              "      <td>embroidary</td>\n",
              "      <td>print</td>\n",
              "      <td>1</td>\n",
              "      <td>1</td>\n",
              "    </tr>\n",
              "    <tr>\n",
              "      <th>4</th>\n",
              "      <td>cute</td>\n",
              "      <td>Low</td>\n",
              "      <td>4.5</td>\n",
              "      <td>M</td>\n",
              "      <td>Summer</td>\n",
              "      <td>o-neck</td>\n",
              "      <td>butterfly</td>\n",
              "      <td>natural</td>\n",
              "      <td>bow</td>\n",
              "      <td>dot</td>\n",
              "      <td>0</td>\n",
              "      <td>1</td>\n",
              "    </tr>\n",
              "    <tr>\n",
              "      <th>5</th>\n",
              "      <td>bohemian</td>\n",
              "      <td>Low</td>\n",
              "      <td>0.0</td>\n",
              "      <td>M</td>\n",
              "      <td>Summer</td>\n",
              "      <td>v-neck</td>\n",
              "      <td>sleevless</td>\n",
              "      <td>empire</td>\n",
              "      <td>0</td>\n",
              "      <td>print</td>\n",
              "      <td>0</td>\n",
              "      <td>0</td>\n",
              "    </tr>\n",
              "    <tr>\n",
              "      <th>...</th>\n",
              "      <td>...</td>\n",
              "      <td>...</td>\n",
              "      <td>...</td>\n",
              "      <td>...</td>\n",
              "      <td>...</td>\n",
              "      <td>...</td>\n",
              "      <td>...</td>\n",
              "      <td>...</td>\n",
              "      <td>...</td>\n",
              "      <td>...</td>\n",
              "      <td>...</td>\n",
              "      <td>...</td>\n",
              "    </tr>\n",
              "    <tr>\n",
              "      <th>494</th>\n",
              "      <td>Brief</td>\n",
              "      <td>Average</td>\n",
              "      <td>4.7</td>\n",
              "      <td>M</td>\n",
              "      <td>winter</td>\n",
              "      <td>o-neck</td>\n",
              "      <td>halfsleeve</td>\n",
              "      <td>natural</td>\n",
              "      <td>0</td>\n",
              "      <td>striped</td>\n",
              "      <td>0</td>\n",
              "      <td>1</td>\n",
              "    </tr>\n",
              "    <tr>\n",
              "      <th>495</th>\n",
              "      <td>Casual</td>\n",
              "      <td>Low</td>\n",
              "      <td>4.7</td>\n",
              "      <td>M</td>\n",
              "      <td>Spring</td>\n",
              "      <td>o-neck</td>\n",
              "      <td>full</td>\n",
              "      <td>natural</td>\n",
              "      <td>0</td>\n",
              "      <td>solid</td>\n",
              "      <td>1</td>\n",
              "      <td>1</td>\n",
              "    </tr>\n",
              "    <tr>\n",
              "      <th>497</th>\n",
              "      <td>Casual</td>\n",
              "      <td>Average</td>\n",
              "      <td>4.7</td>\n",
              "      <td>M</td>\n",
              "      <td>Summer</td>\n",
              "      <td>v-neck</td>\n",
              "      <td>full</td>\n",
              "      <td>empire</td>\n",
              "      <td>lace</td>\n",
              "      <td>solid</td>\n",
              "      <td>1</td>\n",
              "      <td>1</td>\n",
              "    </tr>\n",
              "    <tr>\n",
              "      <th>498</th>\n",
              "      <td>Casual</td>\n",
              "      <td>Average</td>\n",
              "      <td>4.6</td>\n",
              "      <td>L</td>\n",
              "      <td>winter</td>\n",
              "      <td>boat-neck</td>\n",
              "      <td>sleevless</td>\n",
              "      <td>empire</td>\n",
              "      <td>applique</td>\n",
              "      <td>print</td>\n",
              "      <td>1</td>\n",
              "      <td>1</td>\n",
              "    </tr>\n",
              "    <tr>\n",
              "      <th>499</th>\n",
              "      <td>Casual</td>\n",
              "      <td>Low</td>\n",
              "      <td>4.4</td>\n",
              "      <td>free</td>\n",
              "      <td>Summer</td>\n",
              "      <td>v-neck</td>\n",
              "      <td>short</td>\n",
              "      <td>empire</td>\n",
              "      <td>lace</td>\n",
              "      <td>solid</td>\n",
              "      <td>0</td>\n",
              "      <td>1</td>\n",
              "    </tr>\n",
              "  </tbody>\n",
              "</table>\n",
              "<p>341 rows × 12 columns</p>\n",
              "</div>"
            ],
            "text/plain": [
              "        Style    Price  Rating  ... Pattern Type Recommendation Score\n",
              "0        Sexy      Low     4.6  ...       animal              1     1\n",
              "2     vintage     High     0.0  ...        print              0     0\n",
              "3       Brief  Average     4.6  ...        print              1     1\n",
              "4        cute      Low     4.5  ...          dot              0     1\n",
              "5    bohemian      Low     0.0  ...        print              0     0\n",
              "..        ...      ...     ...  ...          ...            ...   ...\n",
              "494     Brief  Average     4.7  ...      striped              0     1\n",
              "495    Casual      Low     4.7  ...        solid              1     1\n",
              "497    Casual  Average     4.7  ...        solid              1     1\n",
              "498    Casual  Average     4.6  ...        print              1     1\n",
              "499    Casual      Low     4.4  ...        solid              0     1\n",
              "\n",
              "[341 rows x 12 columns]"
            ]
          },
          "metadata": {
            "tags": []
          },
          "execution_count": 296
        }
      ]
    },
    {
      "cell_type": "code",
      "metadata": {
        "colab": {
          "base_uri": "https://localhost:8080/",
          "height": 80
        },
        "id": "FXdL-xQ7whRa",
        "outputId": "260f06cc-2a22-4986-ce0a-eb9e5a4124b8"
      },
      "source": [
        "dressattribute_df['Score'].value_counts().to_frame().style.background_gradient(cmap='summer')"
      ],
      "execution_count": null,
      "outputs": [
        {
          "output_type": "execute_result",
          "data": {
            "text/html": [
              "<style  type=\"text/css\" >\n",
              "#T_e38e2e72_d903_11eb_a61e_0242ac1c0002row0_col0{\n",
              "            background-color:  #ffff66;\n",
              "            color:  #000000;\n",
              "        }#T_e38e2e72_d903_11eb_a61e_0242ac1c0002row1_col0{\n",
              "            background-color:  #008066;\n",
              "            color:  #f1f1f1;\n",
              "        }</style><table id=\"T_e38e2e72_d903_11eb_a61e_0242ac1c0002\" ><thead>    <tr>        <th class=\"blank level0\" ></th>        <th class=\"col_heading level0 col0\" >Score</th>    </tr></thead><tbody>\n",
              "                <tr>\n",
              "                        <th id=\"T_e38e2e72_d903_11eb_a61e_0242ac1c0002level0_row0\" class=\"row_heading level0 row0\" >1</th>\n",
              "                        <td id=\"T_e38e2e72_d903_11eb_a61e_0242ac1c0002row0_col0\" class=\"data row0 col0\" >262</td>\n",
              "            </tr>\n",
              "            <tr>\n",
              "                        <th id=\"T_e38e2e72_d903_11eb_a61e_0242ac1c0002level0_row1\" class=\"row_heading level0 row1\" >0</th>\n",
              "                        <td id=\"T_e38e2e72_d903_11eb_a61e_0242ac1c0002row1_col0\" class=\"data row1 col0\" >79</td>\n",
              "            </tr>\n",
              "    </tbody></table>"
            ],
            "text/plain": [
              "<pandas.io.formats.style.Styler at 0x7f9b58b723d0>"
            ]
          },
          "metadata": {
            "tags": []
          },
          "execution_count": 297
        }
      ]
    },
    {
      "cell_type": "code",
      "metadata": {
        "colab": {
          "base_uri": "https://localhost:8080/",
          "height": 419
        },
        "id": "JgLfpF1EzQ3P",
        "outputId": "ca207794-dba1-4a36-bc79-f2dac70fd3b5"
      },
      "source": [
        "dressattribute_df"
      ],
      "execution_count": null,
      "outputs": [
        {
          "output_type": "execute_result",
          "data": {
            "text/html": [
              "<div>\n",
              "<style scoped>\n",
              "    .dataframe tbody tr th:only-of-type {\n",
              "        vertical-align: middle;\n",
              "    }\n",
              "\n",
              "    .dataframe tbody tr th {\n",
              "        vertical-align: top;\n",
              "    }\n",
              "\n",
              "    .dataframe thead th {\n",
              "        text-align: right;\n",
              "    }\n",
              "</style>\n",
              "<table border=\"1\" class=\"dataframe\">\n",
              "  <thead>\n",
              "    <tr style=\"text-align: right;\">\n",
              "      <th></th>\n",
              "      <th>Style</th>\n",
              "      <th>Price</th>\n",
              "      <th>Rating</th>\n",
              "      <th>Size</th>\n",
              "      <th>Season</th>\n",
              "      <th>NeckLine</th>\n",
              "      <th>SleeveLength</th>\n",
              "      <th>waiseline</th>\n",
              "      <th>Decoration</th>\n",
              "      <th>Pattern Type</th>\n",
              "      <th>Recommendation</th>\n",
              "      <th>Score</th>\n",
              "    </tr>\n",
              "  </thead>\n",
              "  <tbody>\n",
              "    <tr>\n",
              "      <th>0</th>\n",
              "      <td>Sexy</td>\n",
              "      <td>Low</td>\n",
              "      <td>4.6</td>\n",
              "      <td>M</td>\n",
              "      <td>Summer</td>\n",
              "      <td>o-neck</td>\n",
              "      <td>sleevless</td>\n",
              "      <td>empire</td>\n",
              "      <td>ruffles</td>\n",
              "      <td>animal</td>\n",
              "      <td>1</td>\n",
              "      <td>1</td>\n",
              "    </tr>\n",
              "    <tr>\n",
              "      <th>2</th>\n",
              "      <td>vintage</td>\n",
              "      <td>High</td>\n",
              "      <td>0.0</td>\n",
              "      <td>L</td>\n",
              "      <td>Automn</td>\n",
              "      <td>o-neck</td>\n",
              "      <td>full</td>\n",
              "      <td>natural</td>\n",
              "      <td>0</td>\n",
              "      <td>print</td>\n",
              "      <td>0</td>\n",
              "      <td>0</td>\n",
              "    </tr>\n",
              "    <tr>\n",
              "      <th>3</th>\n",
              "      <td>Brief</td>\n",
              "      <td>Average</td>\n",
              "      <td>4.6</td>\n",
              "      <td>L</td>\n",
              "      <td>Spring</td>\n",
              "      <td>o-neck</td>\n",
              "      <td>full</td>\n",
              "      <td>natural</td>\n",
              "      <td>embroidary</td>\n",
              "      <td>print</td>\n",
              "      <td>1</td>\n",
              "      <td>1</td>\n",
              "    </tr>\n",
              "    <tr>\n",
              "      <th>4</th>\n",
              "      <td>cute</td>\n",
              "      <td>Low</td>\n",
              "      <td>4.5</td>\n",
              "      <td>M</td>\n",
              "      <td>Summer</td>\n",
              "      <td>o-neck</td>\n",
              "      <td>butterfly</td>\n",
              "      <td>natural</td>\n",
              "      <td>bow</td>\n",
              "      <td>dot</td>\n",
              "      <td>0</td>\n",
              "      <td>1</td>\n",
              "    </tr>\n",
              "    <tr>\n",
              "      <th>5</th>\n",
              "      <td>bohemian</td>\n",
              "      <td>Low</td>\n",
              "      <td>0.0</td>\n",
              "      <td>M</td>\n",
              "      <td>Summer</td>\n",
              "      <td>v-neck</td>\n",
              "      <td>sleevless</td>\n",
              "      <td>empire</td>\n",
              "      <td>0</td>\n",
              "      <td>print</td>\n",
              "      <td>0</td>\n",
              "      <td>0</td>\n",
              "    </tr>\n",
              "    <tr>\n",
              "      <th>...</th>\n",
              "      <td>...</td>\n",
              "      <td>...</td>\n",
              "      <td>...</td>\n",
              "      <td>...</td>\n",
              "      <td>...</td>\n",
              "      <td>...</td>\n",
              "      <td>...</td>\n",
              "      <td>...</td>\n",
              "      <td>...</td>\n",
              "      <td>...</td>\n",
              "      <td>...</td>\n",
              "      <td>...</td>\n",
              "    </tr>\n",
              "    <tr>\n",
              "      <th>494</th>\n",
              "      <td>Brief</td>\n",
              "      <td>Average</td>\n",
              "      <td>4.7</td>\n",
              "      <td>M</td>\n",
              "      <td>winter</td>\n",
              "      <td>o-neck</td>\n",
              "      <td>halfsleeve</td>\n",
              "      <td>natural</td>\n",
              "      <td>0</td>\n",
              "      <td>striped</td>\n",
              "      <td>0</td>\n",
              "      <td>1</td>\n",
              "    </tr>\n",
              "    <tr>\n",
              "      <th>495</th>\n",
              "      <td>Casual</td>\n",
              "      <td>Low</td>\n",
              "      <td>4.7</td>\n",
              "      <td>M</td>\n",
              "      <td>Spring</td>\n",
              "      <td>o-neck</td>\n",
              "      <td>full</td>\n",
              "      <td>natural</td>\n",
              "      <td>0</td>\n",
              "      <td>solid</td>\n",
              "      <td>1</td>\n",
              "      <td>1</td>\n",
              "    </tr>\n",
              "    <tr>\n",
              "      <th>497</th>\n",
              "      <td>Casual</td>\n",
              "      <td>Average</td>\n",
              "      <td>4.7</td>\n",
              "      <td>M</td>\n",
              "      <td>Summer</td>\n",
              "      <td>v-neck</td>\n",
              "      <td>full</td>\n",
              "      <td>empire</td>\n",
              "      <td>lace</td>\n",
              "      <td>solid</td>\n",
              "      <td>1</td>\n",
              "      <td>1</td>\n",
              "    </tr>\n",
              "    <tr>\n",
              "      <th>498</th>\n",
              "      <td>Casual</td>\n",
              "      <td>Average</td>\n",
              "      <td>4.6</td>\n",
              "      <td>L</td>\n",
              "      <td>winter</td>\n",
              "      <td>boat-neck</td>\n",
              "      <td>sleevless</td>\n",
              "      <td>empire</td>\n",
              "      <td>applique</td>\n",
              "      <td>print</td>\n",
              "      <td>1</td>\n",
              "      <td>1</td>\n",
              "    </tr>\n",
              "    <tr>\n",
              "      <th>499</th>\n",
              "      <td>Casual</td>\n",
              "      <td>Low</td>\n",
              "      <td>4.4</td>\n",
              "      <td>free</td>\n",
              "      <td>Summer</td>\n",
              "      <td>v-neck</td>\n",
              "      <td>short</td>\n",
              "      <td>empire</td>\n",
              "      <td>lace</td>\n",
              "      <td>solid</td>\n",
              "      <td>0</td>\n",
              "      <td>1</td>\n",
              "    </tr>\n",
              "  </tbody>\n",
              "</table>\n",
              "<p>341 rows × 12 columns</p>\n",
              "</div>"
            ],
            "text/plain": [
              "        Style    Price  Rating  ... Pattern Type Recommendation Score\n",
              "0        Sexy      Low     4.6  ...       animal              1     1\n",
              "2     vintage     High     0.0  ...        print              0     0\n",
              "3       Brief  Average     4.6  ...        print              1     1\n",
              "4        cute      Low     4.5  ...          dot              0     1\n",
              "5    bohemian      Low     0.0  ...        print              0     0\n",
              "..        ...      ...     ...  ...          ...            ...   ...\n",
              "494     Brief  Average     4.7  ...      striped              0     1\n",
              "495    Casual      Low     4.7  ...        solid              1     1\n",
              "497    Casual  Average     4.7  ...        solid              1     1\n",
              "498    Casual  Average     4.6  ...        print              1     1\n",
              "499    Casual      Low     4.4  ...        solid              0     1\n",
              "\n",
              "[341 rows x 12 columns]"
            ]
          },
          "metadata": {
            "tags": []
          },
          "execution_count": 298
        }
      ]
    },
    {
      "cell_type": "code",
      "metadata": {
        "id": "CDbME8RRQkQu",
        "colab": {
          "base_uri": "https://localhost:8080/",
          "height": 204
        },
        "outputId": "5475058e-c457-4893-a346-645f1f807616"
      },
      "source": [
        "dressattribute_df.head()"
      ],
      "execution_count": null,
      "outputs": [
        {
          "output_type": "execute_result",
          "data": {
            "text/html": [
              "<div>\n",
              "<style scoped>\n",
              "    .dataframe tbody tr th:only-of-type {\n",
              "        vertical-align: middle;\n",
              "    }\n",
              "\n",
              "    .dataframe tbody tr th {\n",
              "        vertical-align: top;\n",
              "    }\n",
              "\n",
              "    .dataframe thead th {\n",
              "        text-align: right;\n",
              "    }\n",
              "</style>\n",
              "<table border=\"1\" class=\"dataframe\">\n",
              "  <thead>\n",
              "    <tr style=\"text-align: right;\">\n",
              "      <th></th>\n",
              "      <th>Style</th>\n",
              "      <th>Price</th>\n",
              "      <th>Rating</th>\n",
              "      <th>Size</th>\n",
              "      <th>Season</th>\n",
              "      <th>NeckLine</th>\n",
              "      <th>SleeveLength</th>\n",
              "      <th>waiseline</th>\n",
              "      <th>Decoration</th>\n",
              "      <th>Pattern Type</th>\n",
              "      <th>Recommendation</th>\n",
              "      <th>Score</th>\n",
              "    </tr>\n",
              "  </thead>\n",
              "  <tbody>\n",
              "    <tr>\n",
              "      <th>0</th>\n",
              "      <td>Sexy</td>\n",
              "      <td>Low</td>\n",
              "      <td>4.6</td>\n",
              "      <td>M</td>\n",
              "      <td>Summer</td>\n",
              "      <td>o-neck</td>\n",
              "      <td>sleevless</td>\n",
              "      <td>empire</td>\n",
              "      <td>ruffles</td>\n",
              "      <td>animal</td>\n",
              "      <td>1</td>\n",
              "      <td>1</td>\n",
              "    </tr>\n",
              "    <tr>\n",
              "      <th>2</th>\n",
              "      <td>vintage</td>\n",
              "      <td>High</td>\n",
              "      <td>0.0</td>\n",
              "      <td>L</td>\n",
              "      <td>Automn</td>\n",
              "      <td>o-neck</td>\n",
              "      <td>full</td>\n",
              "      <td>natural</td>\n",
              "      <td>0</td>\n",
              "      <td>print</td>\n",
              "      <td>0</td>\n",
              "      <td>0</td>\n",
              "    </tr>\n",
              "    <tr>\n",
              "      <th>3</th>\n",
              "      <td>Brief</td>\n",
              "      <td>Average</td>\n",
              "      <td>4.6</td>\n",
              "      <td>L</td>\n",
              "      <td>Spring</td>\n",
              "      <td>o-neck</td>\n",
              "      <td>full</td>\n",
              "      <td>natural</td>\n",
              "      <td>embroidary</td>\n",
              "      <td>print</td>\n",
              "      <td>1</td>\n",
              "      <td>1</td>\n",
              "    </tr>\n",
              "    <tr>\n",
              "      <th>4</th>\n",
              "      <td>cute</td>\n",
              "      <td>Low</td>\n",
              "      <td>4.5</td>\n",
              "      <td>M</td>\n",
              "      <td>Summer</td>\n",
              "      <td>o-neck</td>\n",
              "      <td>butterfly</td>\n",
              "      <td>natural</td>\n",
              "      <td>bow</td>\n",
              "      <td>dot</td>\n",
              "      <td>0</td>\n",
              "      <td>1</td>\n",
              "    </tr>\n",
              "    <tr>\n",
              "      <th>5</th>\n",
              "      <td>bohemian</td>\n",
              "      <td>Low</td>\n",
              "      <td>0.0</td>\n",
              "      <td>M</td>\n",
              "      <td>Summer</td>\n",
              "      <td>v-neck</td>\n",
              "      <td>sleevless</td>\n",
              "      <td>empire</td>\n",
              "      <td>0</td>\n",
              "      <td>print</td>\n",
              "      <td>0</td>\n",
              "      <td>0</td>\n",
              "    </tr>\n",
              "  </tbody>\n",
              "</table>\n",
              "</div>"
            ],
            "text/plain": [
              "      Style    Price  Rating  ... Pattern Type Recommendation Score\n",
              "0      Sexy      Low     4.6  ...       animal              1     1\n",
              "2   vintage     High     0.0  ...        print              0     0\n",
              "3     Brief  Average     4.6  ...        print              1     1\n",
              "4      cute      Low     4.5  ...          dot              0     1\n",
              "5  bohemian      Low     0.0  ...        print              0     0\n",
              "\n",
              "[5 rows x 12 columns]"
            ]
          },
          "metadata": {
            "tags": []
          },
          "execution_count": 299
        }
      ]
    },
    {
      "cell_type": "code",
      "metadata": {
        "id": "Y_rFuISiqrzV",
        "colab": {
          "base_uri": "https://localhost:8080/",
          "height": 204
        },
        "outputId": "3cad2a0c-7a2d-44d5-dfd6-15e49579acb3"
      },
      "source": [
        "dressattribute_df.tail()"
      ],
      "execution_count": null,
      "outputs": [
        {
          "output_type": "execute_result",
          "data": {
            "text/html": [
              "<div>\n",
              "<style scoped>\n",
              "    .dataframe tbody tr th:only-of-type {\n",
              "        vertical-align: middle;\n",
              "    }\n",
              "\n",
              "    .dataframe tbody tr th {\n",
              "        vertical-align: top;\n",
              "    }\n",
              "\n",
              "    .dataframe thead th {\n",
              "        text-align: right;\n",
              "    }\n",
              "</style>\n",
              "<table border=\"1\" class=\"dataframe\">\n",
              "  <thead>\n",
              "    <tr style=\"text-align: right;\">\n",
              "      <th></th>\n",
              "      <th>Style</th>\n",
              "      <th>Price</th>\n",
              "      <th>Rating</th>\n",
              "      <th>Size</th>\n",
              "      <th>Season</th>\n",
              "      <th>NeckLine</th>\n",
              "      <th>SleeveLength</th>\n",
              "      <th>waiseline</th>\n",
              "      <th>Decoration</th>\n",
              "      <th>Pattern Type</th>\n",
              "      <th>Recommendation</th>\n",
              "      <th>Score</th>\n",
              "    </tr>\n",
              "  </thead>\n",
              "  <tbody>\n",
              "    <tr>\n",
              "      <th>494</th>\n",
              "      <td>Brief</td>\n",
              "      <td>Average</td>\n",
              "      <td>4.7</td>\n",
              "      <td>M</td>\n",
              "      <td>winter</td>\n",
              "      <td>o-neck</td>\n",
              "      <td>halfsleeve</td>\n",
              "      <td>natural</td>\n",
              "      <td>0</td>\n",
              "      <td>striped</td>\n",
              "      <td>0</td>\n",
              "      <td>1</td>\n",
              "    </tr>\n",
              "    <tr>\n",
              "      <th>495</th>\n",
              "      <td>Casual</td>\n",
              "      <td>Low</td>\n",
              "      <td>4.7</td>\n",
              "      <td>M</td>\n",
              "      <td>Spring</td>\n",
              "      <td>o-neck</td>\n",
              "      <td>full</td>\n",
              "      <td>natural</td>\n",
              "      <td>0</td>\n",
              "      <td>solid</td>\n",
              "      <td>1</td>\n",
              "      <td>1</td>\n",
              "    </tr>\n",
              "    <tr>\n",
              "      <th>497</th>\n",
              "      <td>Casual</td>\n",
              "      <td>Average</td>\n",
              "      <td>4.7</td>\n",
              "      <td>M</td>\n",
              "      <td>Summer</td>\n",
              "      <td>v-neck</td>\n",
              "      <td>full</td>\n",
              "      <td>empire</td>\n",
              "      <td>lace</td>\n",
              "      <td>solid</td>\n",
              "      <td>1</td>\n",
              "      <td>1</td>\n",
              "    </tr>\n",
              "    <tr>\n",
              "      <th>498</th>\n",
              "      <td>Casual</td>\n",
              "      <td>Average</td>\n",
              "      <td>4.6</td>\n",
              "      <td>L</td>\n",
              "      <td>winter</td>\n",
              "      <td>boat-neck</td>\n",
              "      <td>sleevless</td>\n",
              "      <td>empire</td>\n",
              "      <td>applique</td>\n",
              "      <td>print</td>\n",
              "      <td>1</td>\n",
              "      <td>1</td>\n",
              "    </tr>\n",
              "    <tr>\n",
              "      <th>499</th>\n",
              "      <td>Casual</td>\n",
              "      <td>Low</td>\n",
              "      <td>4.4</td>\n",
              "      <td>free</td>\n",
              "      <td>Summer</td>\n",
              "      <td>v-neck</td>\n",
              "      <td>short</td>\n",
              "      <td>empire</td>\n",
              "      <td>lace</td>\n",
              "      <td>solid</td>\n",
              "      <td>0</td>\n",
              "      <td>1</td>\n",
              "    </tr>\n",
              "  </tbody>\n",
              "</table>\n",
              "</div>"
            ],
            "text/plain": [
              "      Style    Price  Rating  ... Pattern Type Recommendation Score\n",
              "494   Brief  Average     4.7  ...      striped              0     1\n",
              "495  Casual      Low     4.7  ...        solid              1     1\n",
              "497  Casual  Average     4.7  ...        solid              1     1\n",
              "498  Casual  Average     4.6  ...        print              1     1\n",
              "499  Casual      Low     4.4  ...        solid              0     1\n",
              "\n",
              "[5 rows x 12 columns]"
            ]
          },
          "metadata": {
            "tags": []
          },
          "execution_count": 300
        }
      ]
    },
    {
      "cell_type": "code",
      "metadata": {
        "id": "mNtavVCLQtqs",
        "colab": {
          "base_uri": "https://localhost:8080/"
        },
        "outputId": "e35deecf-1568-49d0-ce79-692621b5aa80"
      },
      "source": [
        "dressattribute_df.count()"
      ],
      "execution_count": null,
      "outputs": [
        {
          "output_type": "execute_result",
          "data": {
            "text/plain": [
              "Style             341\n",
              "Price             341\n",
              "Rating            341\n",
              "Size              341\n",
              "Season            341\n",
              "NeckLine          341\n",
              "SleeveLength      341\n",
              "waiseline         341\n",
              "Decoration        341\n",
              "Pattern Type      341\n",
              "Recommendation    341\n",
              "Score             341\n",
              "dtype: int64"
            ]
          },
          "metadata": {
            "tags": []
          },
          "execution_count": 301
        }
      ]
    },
    {
      "cell_type": "code",
      "metadata": {
        "id": "95O6mmH_RD9I",
        "colab": {
          "base_uri": "https://localhost:8080/"
        },
        "outputId": "9bf41282-40ff-452e-b4f7-1778b843a9e6"
      },
      "source": [
        "dressattribute_df.info()"
      ],
      "execution_count": null,
      "outputs": [
        {
          "output_type": "stream",
          "text": [
            "<class 'pandas.core.frame.DataFrame'>\n",
            "Int64Index: 341 entries, 0 to 499\n",
            "Data columns (total 12 columns):\n",
            " #   Column          Non-Null Count  Dtype  \n",
            "---  ------          --------------  -----  \n",
            " 0   Style           341 non-null    object \n",
            " 1   Price           341 non-null    object \n",
            " 2   Rating          341 non-null    float64\n",
            " 3   Size            341 non-null    object \n",
            " 4   Season          341 non-null    object \n",
            " 5   NeckLine        341 non-null    object \n",
            " 6   SleeveLength    341 non-null    object \n",
            " 7   waiseline       341 non-null    object \n",
            " 8   Decoration      341 non-null    object \n",
            " 9   Pattern Type    341 non-null    object \n",
            " 10  Recommendation  341 non-null    int64  \n",
            " 11  Score           341 non-null    int64  \n",
            "dtypes: float64(1), int64(2), object(9)\n",
            "memory usage: 34.6+ KB\n"
          ],
          "name": "stdout"
        }
      ]
    },
    {
      "cell_type": "code",
      "metadata": {
        "id": "jhqzN-YyRwkT",
        "colab": {
          "base_uri": "https://localhost:8080/",
          "height": 297
        },
        "outputId": "340cde3a-3f3e-41e0-cc5a-a3bd412b1435"
      },
      "source": [
        "dressattribute_df.describe()"
      ],
      "execution_count": null,
      "outputs": [
        {
          "output_type": "execute_result",
          "data": {
            "text/html": [
              "<div>\n",
              "<style scoped>\n",
              "    .dataframe tbody tr th:only-of-type {\n",
              "        vertical-align: middle;\n",
              "    }\n",
              "\n",
              "    .dataframe tbody tr th {\n",
              "        vertical-align: top;\n",
              "    }\n",
              "\n",
              "    .dataframe thead th {\n",
              "        text-align: right;\n",
              "    }\n",
              "</style>\n",
              "<table border=\"1\" class=\"dataframe\">\n",
              "  <thead>\n",
              "    <tr style=\"text-align: right;\">\n",
              "      <th></th>\n",
              "      <th>Rating</th>\n",
              "      <th>Recommendation</th>\n",
              "      <th>Score</th>\n",
              "    </tr>\n",
              "  </thead>\n",
              "  <tbody>\n",
              "    <tr>\n",
              "      <th>count</th>\n",
              "      <td>341.000000</td>\n",
              "      <td>341.000000</td>\n",
              "      <td>341.000000</td>\n",
              "    </tr>\n",
              "    <tr>\n",
              "      <th>mean</th>\n",
              "      <td>3.575073</td>\n",
              "      <td>0.372434</td>\n",
              "      <td>0.768328</td>\n",
              "    </tr>\n",
              "    <tr>\n",
              "      <th>std</th>\n",
              "      <td>1.979660</td>\n",
              "      <td>0.484164</td>\n",
              "      <td>0.422520</td>\n",
              "    </tr>\n",
              "    <tr>\n",
              "      <th>min</th>\n",
              "      <td>0.000000</td>\n",
              "      <td>0.000000</td>\n",
              "      <td>0.000000</td>\n",
              "    </tr>\n",
              "    <tr>\n",
              "      <th>25%</th>\n",
              "      <td>4.000000</td>\n",
              "      <td>0.000000</td>\n",
              "      <td>1.000000</td>\n",
              "    </tr>\n",
              "    <tr>\n",
              "      <th>50%</th>\n",
              "      <td>4.600000</td>\n",
              "      <td>0.000000</td>\n",
              "      <td>1.000000</td>\n",
              "    </tr>\n",
              "    <tr>\n",
              "      <th>75%</th>\n",
              "      <td>4.800000</td>\n",
              "      <td>1.000000</td>\n",
              "      <td>1.000000</td>\n",
              "    </tr>\n",
              "    <tr>\n",
              "      <th>max</th>\n",
              "      <td>5.000000</td>\n",
              "      <td>1.000000</td>\n",
              "      <td>1.000000</td>\n",
              "    </tr>\n",
              "  </tbody>\n",
              "</table>\n",
              "</div>"
            ],
            "text/plain": [
              "           Rating  Recommendation       Score\n",
              "count  341.000000      341.000000  341.000000\n",
              "mean     3.575073        0.372434    0.768328\n",
              "std      1.979660        0.484164    0.422520\n",
              "min      0.000000        0.000000    0.000000\n",
              "25%      4.000000        0.000000    1.000000\n",
              "50%      4.600000        0.000000    1.000000\n",
              "75%      4.800000        1.000000    1.000000\n",
              "max      5.000000        1.000000    1.000000"
            ]
          },
          "metadata": {
            "tags": []
          },
          "execution_count": 303
        }
      ]
    },
    {
      "cell_type": "code",
      "metadata": {
        "colab": {
          "base_uri": "https://localhost:8080/",
          "height": 142
        },
        "id": "Zd_AQtTtz56m",
        "outputId": "18a52a69-45a1-462a-91bd-1c16e7384121"
      },
      "source": [
        "dressattribute_df.corr()"
      ],
      "execution_count": null,
      "outputs": [
        {
          "output_type": "execute_result",
          "data": {
            "text/html": [
              "<div>\n",
              "<style scoped>\n",
              "    .dataframe tbody tr th:only-of-type {\n",
              "        vertical-align: middle;\n",
              "    }\n",
              "\n",
              "    .dataframe tbody tr th {\n",
              "        vertical-align: top;\n",
              "    }\n",
              "\n",
              "    .dataframe thead th {\n",
              "        text-align: right;\n",
              "    }\n",
              "</style>\n",
              "<table border=\"1\" class=\"dataframe\">\n",
              "  <thead>\n",
              "    <tr style=\"text-align: right;\">\n",
              "      <th></th>\n",
              "      <th>Rating</th>\n",
              "      <th>Recommendation</th>\n",
              "      <th>Score</th>\n",
              "    </tr>\n",
              "  </thead>\n",
              "  <tbody>\n",
              "    <tr>\n",
              "      <th>Rating</th>\n",
              "      <td>1.000000</td>\n",
              "      <td>0.026285</td>\n",
              "      <td>0.993105</td>\n",
              "    </tr>\n",
              "    <tr>\n",
              "      <th>Recommendation</th>\n",
              "      <td>0.026285</td>\n",
              "      <td>1.000000</td>\n",
              "      <td>0.020449</td>\n",
              "    </tr>\n",
              "    <tr>\n",
              "      <th>Score</th>\n",
              "      <td>0.993105</td>\n",
              "      <td>0.020449</td>\n",
              "      <td>1.000000</td>\n",
              "    </tr>\n",
              "  </tbody>\n",
              "</table>\n",
              "</div>"
            ],
            "text/plain": [
              "                  Rating  Recommendation     Score\n",
              "Rating          1.000000        0.026285  0.993105\n",
              "Recommendation  0.026285        1.000000  0.020449\n",
              "Score           0.993105        0.020449  1.000000"
            ]
          },
          "metadata": {
            "tags": []
          },
          "execution_count": 304
        }
      ]
    },
    {
      "cell_type": "code",
      "metadata": {
        "colab": {
          "base_uri": "https://localhost:8080/"
        },
        "id": "HyT36sqCze21",
        "outputId": "f3bdcfd4-bf63-4590-f306-cee35b7d0fce"
      },
      "source": [
        "print('Highest Recommendation was:',data['Recommendation'].max())\n",
        "print('Lowest Recommendation was:',data['Recommendation'].min())\n",
        "print('Average Recommendation was:',data['Recommendation'].mean())"
      ],
      "execution_count": null,
      "outputs": [
        {
          "output_type": "stream",
          "text": [
            "Highest Recommendation was: 1\n",
            "Lowest Recommendation was: 0\n",
            "Average Recommendation was: 0.42\n"
          ],
          "name": "stdout"
        }
      ]
    }
  ]
}